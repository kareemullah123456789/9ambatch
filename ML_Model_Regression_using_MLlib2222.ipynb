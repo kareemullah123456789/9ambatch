{
  "cells": [
    {
      "cell_type": "markdown",
      "metadata": {
        "id": "view-in-github",
        "colab_type": "text"
      },
      "source": [
        "<a href=\"https://colab.research.google.com/github/kareemullah123456789/9ambatch/blob/master/ML_Model_Regression_using_MLlib2222.ipynb\" target=\"_parent\"><img src=\"https://colab.research.google.com/assets/colab-badge.svg\" alt=\"Open In Colab\"/></a>"
      ]
    },
    {
      "cell_type": "code",
      "execution_count": 1,
      "metadata": {
        "colab": {
          "base_uri": "https://localhost:8080/"
        },
        "id": "cMAbh_ygXlPW",
        "outputId": "24efa5b2-1058-468f-d714-06a2436efd78"
      },
      "outputs": [
        {
          "output_type": "stream",
          "name": "stdout",
          "text": [
            "Collecting pyspark\n",
            "  Downloading pyspark-3.5.1.tar.gz (317.0 MB)\n",
            "\u001b[2K     \u001b[90m━━━━━━━━━━━━━━━━━━━━━━━━━━━━━━━━━━━━━━━━\u001b[0m \u001b[32m317.0/317.0 MB\u001b[0m \u001b[31m2.7 MB/s\u001b[0m eta \u001b[36m0:00:00\u001b[0m\n",
            "\u001b[?25h  Preparing metadata (setup.py) ... \u001b[?25l\u001b[?25hdone\n",
            "Requirement already satisfied: py4j==0.10.9.7 in /usr/local/lib/python3.10/dist-packages (from pyspark) (0.10.9.7)\n",
            "Building wheels for collected packages: pyspark\n",
            "  Building wheel for pyspark (setup.py) ... \u001b[?25l\u001b[?25hdone\n",
            "  Created wheel for pyspark: filename=pyspark-3.5.1-py2.py3-none-any.whl size=317488493 sha256=892b39f392e5d3b5c300cdfad8e17ad51d330ca440bf529bb9cd62396e8de1af\n",
            "  Stored in directory: /root/.cache/pip/wheels/80/1d/60/2c256ed38dddce2fdd93be545214a63e02fbd8d74fb0b7f3a6\n",
            "Successfully built pyspark\n",
            "Installing collected packages: pyspark\n",
            "Successfully installed pyspark-3.5.1\n"
          ]
        }
      ],
      "source": [
        "pip install pyspark"
      ]
    },
    {
      "cell_type": "code",
      "source": [
        "from google.colab import drive\n",
        "drive.mount('/content/drive')"
      ],
      "metadata": {
        "id": "eRBqgsNpeXMu"
      },
      "execution_count": null,
      "outputs": []
    },
    {
      "cell_type": "code",
      "execution_count": 2,
      "metadata": {
        "id": "N__-zQ-CBKyl"
      },
      "outputs": [],
      "source": [
        "import os\n",
        "os.environ[\"JAVA_HOME\"]=\"/lib/jvm/java-11-openjdk-amd64\""
      ]
    },
    {
      "cell_type": "code",
      "execution_count": 3,
      "metadata": {
        "id": "DQDUwI0cFyel"
      },
      "outputs": [],
      "source": [
        "from pyspark import SparkConf, SparkContext\n",
        "from pyspark.sql import SQLContext"
      ]
    },
    {
      "cell_type": "markdown",
      "source": [
        "conf = SparkConf().set('spark.ui.port', '4050').setAppName(\"films\").setMaster(\"local[2]\"): This line creates a configuration object conf for the Spark application. It sets various properties such as the Spark UI port (spark.ui.port) to 4050, the application name to \"films\", and the master URL to \"local[2]\". \"local[2]\" means that the Spark application will run in local mode with 2 threads.\n",
        "\n",
        "sc = SparkContext.getOrCreate(conf=conf): This line initializes the SparkContext (sc). SparkContext is the main entry point for Spark functionality. By calling getOrCreate(), it either gets the existing SparkContext or creates a new one with the provided configuration (conf).\n",
        "\n",
        "sqlContext = SQLContext(sc): This line creates an SQLContext (sqlContext) using the initialized SparkContext (sc). SQLContext is a class provided by Spark SQL for working with structured data.\n",
        "\n",
        "sc.stop(): This line stops the SparkContext. When you're done with your Spark application, it's important to stop the SparkContext to release the resources it holds, such as memory, CPU cores, and network connections.\n",
        "\n",
        "In summary, the provided code sets up a Spark application with configuration parameters, initializes a SparkContext and an SQLContext, and then stops the SparkContext when it's no longer needed. The sc.stop() line is commented out, so it's not executed. If you were to uncomment this line and execute it, it would stop the SparkContext, effectively terminating the Spark application."
      ],
      "metadata": {
        "id": "TxCZuVlGd1VN"
      }
    },
    {
      "cell_type": "code",
      "execution_count": 4,
      "metadata": {
        "id": "omcHlM3TF0Ou",
        "colab": {
          "base_uri": "https://localhost:8080/"
        },
        "outputId": "3e841117-1658-4796-b65b-550ef991d252"
      },
      "outputs": [
        {
          "output_type": "stream",
          "name": "stderr",
          "text": [
            "/usr/local/lib/python3.10/dist-packages/pyspark/sql/context.py:113: FutureWarning: Deprecated in 3.0.0. Use SparkSession.builder.getOrCreate() instead.\n",
            "  warnings.warn(\n"
          ]
        }
      ],
      "source": [
        "conf = SparkConf().set('spark.ui.port', '4050').setAppName(\"films\").setMaster(\"local[2]\")\n",
        "sc = SparkContext.getOrCreate(conf=conf)\n",
        "sqlContext = SQLContext(sc)\n",
        "#sc.stop()"
      ]
    },
    {
      "cell_type": "markdown",
      "source": [
        "house_df.cache(): This method is used to persist the DataFrame house_df in memory. Caching a DataFrame can improve the performance of iterative algorithms and actions that require multiple passes over the data by avoiding redundant computations. It's important to note that caching is lazy, meaning it doesn't materialize the DataFrame immediately. Instead, it marks it as cached, and Spark will cache it the first time it is materialized in an action.\n",
        "\n",
        "house_df.printSchema(): This method prints out the schema of the DataFrame house_df. The schema defines the structure of the data, including column names and their data types.\n",
        "\n",
        "By combining these two statements, you're first caching the DataFrame house_df in memory (if it's not already cached) and then printing its schema. This can be useful for understanding the structure of your data and ensuring that it's cached for better performance if needed in subsequent computations."
      ],
      "metadata": {
        "id": "p831WG7qdbzT"
      }
    },
    {
      "cell_type": "code",
      "source": [],
      "metadata": {
        "id": "kzJhvke3dxZQ"
      },
      "execution_count": null,
      "outputs": []
    },
    {
      "cell_type": "code",
      "execution_count": 5,
      "metadata": {
        "id": "fOOyaBThXSMO",
        "colab": {
          "base_uri": "https://localhost:8080/"
        },
        "outputId": "1b9fc1fc-4f81-4eec-fcd7-96ac93b1e172"
      },
      "outputs": [
        {
          "output_type": "stream",
          "name": "stdout",
          "text": [
            "+---+-------+----+-----+----+-----+-----+-----+------+---+---+-------+------+-----+----+\n",
            "|_c0|   crim|  zn|indus|chas|  nox|   rm|  age|   dis|rad|tax|ptratio| black|lstat|medv|\n",
            "+---+-------+----+-----+----+-----+-----+-----+------+---+---+-------+------+-----+----+\n",
            "|  1|0.00632|18.0| 2.31|   0|0.538|6.575| 65.2|  4.09|  1|296|   15.3| 396.9| 4.98|24.0|\n",
            "|  2|0.02731| 0.0| 7.07|   0|0.469|6.421| 78.9|4.9671|  2|242|   17.8| 396.9| 9.14|21.6|\n",
            "|  3|0.02729| 0.0| 7.07|   0|0.469|7.185| 61.1|4.9671|  2|242|   17.8|392.83| 4.03|34.7|\n",
            "|  4|0.03237| 0.0| 2.18|   0|0.458|6.998| 45.8|6.0622|  3|222|   18.7|394.63| 2.94|33.4|\n",
            "|  5|0.06905| 0.0| 2.18|   0|0.458|7.147| 54.2|6.0622|  3|222|   18.7| 396.9| 5.33|36.2|\n",
            "|  6|0.02985| 0.0| 2.18|   0|0.458| 6.43| 58.7|6.0622|  3|222|   18.7|394.12| 5.21|28.7|\n",
            "|  7|0.08829|12.5| 7.87|   0|0.524|6.012| 66.6|5.5605|  5|311|   15.2| 395.6|12.43|22.9|\n",
            "|  8|0.14455|12.5| 7.87|   0|0.524|6.172| 96.1|5.9505|  5|311|   15.2| 396.9|19.15|27.1|\n",
            "|  9|0.21124|12.5| 7.87|   0|0.524|5.631|100.0|6.0821|  5|311|   15.2|386.63|29.93|16.5|\n",
            "| 10|0.17004|12.5| 7.87|   0|0.524|6.004| 85.9|6.5921|  5|311|   15.2|386.71| 17.1|18.9|\n",
            "| 11|0.22489|12.5| 7.87|   0|0.524|6.377| 94.3|6.3467|  5|311|   15.2|392.52|20.45|15.0|\n",
            "| 12|0.11747|12.5| 7.87|   0|0.524|6.009| 82.9|6.2267|  5|311|   15.2| 396.9|13.27|18.9|\n",
            "| 13|0.09378|12.5| 7.87|   0|0.524|5.889| 39.0|5.4509|  5|311|   15.2| 390.5|15.71|21.7|\n",
            "| 14|0.62976| 0.0| 8.14|   0|0.538|5.949| 61.8|4.7075|  4|307|   21.0| 396.9| 8.26|20.4|\n",
            "| 15|0.63796| 0.0| 8.14|   0|0.538|6.096| 84.5|4.4619|  4|307|   21.0|380.02|10.26|18.2|\n",
            "| 16|0.62739| 0.0| 8.14|   0|0.538|5.834| 56.5|4.4986|  4|307|   21.0|395.62| 8.47|19.9|\n",
            "| 17|1.05393| 0.0| 8.14|   0|0.538|5.935| 29.3|4.4986|  4|307|   21.0|386.85| 6.58|23.1|\n",
            "| 18| 0.7842| 0.0| 8.14|   0|0.538| 5.99| 81.7|4.2579|  4|307|   21.0|386.75|14.67|17.5|\n",
            "| 19|0.80271| 0.0| 8.14|   0|0.538|5.456| 36.6|3.7965|  4|307|   21.0|288.99|11.69|20.2|\n",
            "| 20| 0.7258| 0.0| 8.14|   0|0.538|5.727| 69.5|3.7965|  4|307|   21.0|390.95|11.28|18.2|\n",
            "+---+-------+----+-----+----+-----+-----+-----+------+---+---+-------+------+-----+----+\n",
            "only showing top 20 rows\n",
            "\n"
          ]
        }
      ],
      "source": [
        "house_df = sqlContext.read.format('com.databricks.spark.csv').options(header='true', inferschema='true').load('/content/Boston.csv')\n",
        "house_df.show()"
      ]
    },
    {
      "cell_type": "markdown",
      "source": [],
      "metadata": {
        "id": "AfeNQMnhhv4k"
      }
    },
    {
      "cell_type": "code",
      "execution_count": 6,
      "metadata": {
        "id": "O-GPO0oIYvN6",
        "colab": {
          "base_uri": "https://localhost:8080/"
        },
        "outputId": "0d10d0a0-f5bc-425b-9ee9-d5cfcb74ae2f"
      },
      "outputs": [
        {
          "output_type": "stream",
          "name": "stdout",
          "text": [
            "root\n",
            " |-- _c0: integer (nullable = true)\n",
            " |-- crim: double (nullable = true)\n",
            " |-- zn: double (nullable = true)\n",
            " |-- indus: double (nullable = true)\n",
            " |-- chas: integer (nullable = true)\n",
            " |-- nox: double (nullable = true)\n",
            " |-- rm: double (nullable = true)\n",
            " |-- age: double (nullable = true)\n",
            " |-- dis: double (nullable = true)\n",
            " |-- rad: integer (nullable = true)\n",
            " |-- tax: integer (nullable = true)\n",
            " |-- ptratio: double (nullable = true)\n",
            " |-- black: double (nullable = true)\n",
            " |-- lstat: double (nullable = true)\n",
            " |-- medv: double (nullable = true)\n",
            "\n"
          ]
        }
      ],
      "source": [
        "# Printing schema\n",
        "house_df.cache()\n",
        "house_df.printSchema()\n"
      ]
    },
    {
      "cell_type": "markdown",
      "source": [
        "\n",
        "The toPandas() method in PySpark is used to convert a DataFrame to a Pandas DataFrame. This is often done when you want to work with the data locally in Python after processing it in Spark."
      ],
      "metadata": {
        "id": "w3FLtKMYeTe6"
      }
    },
    {
      "cell_type": "code",
      "execution_count": 7,
      "metadata": {
        "id": "OYWn1sckY4L4",
        "colab": {
          "base_uri": "https://localhost:8080/",
          "height": 423
        },
        "outputId": "f2febed6-ada0-4dbf-8314-fb0e9ca07fbc"
      },
      "outputs": [
        {
          "output_type": "execute_result",
          "data": {
            "text/plain": [
              "     _c0     crim    zn  indus  chas    nox     rm   age     dis  rad  tax  \\\n",
              "0      1  0.00632  18.0   2.31     0  0.538  6.575  65.2  4.0900    1  296   \n",
              "1      2  0.02731   0.0   7.07     0  0.469  6.421  78.9  4.9671    2  242   \n",
              "2      3  0.02729   0.0   7.07     0  0.469  7.185  61.1  4.9671    2  242   \n",
              "3      4  0.03237   0.0   2.18     0  0.458  6.998  45.8  6.0622    3  222   \n",
              "4      5  0.06905   0.0   2.18     0  0.458  7.147  54.2  6.0622    3  222   \n",
              "..   ...      ...   ...    ...   ...    ...    ...   ...     ...  ...  ...   \n",
              "501  502  0.06263   0.0  11.93     0  0.573  6.593  69.1  2.4786    1  273   \n",
              "502  503  0.04527   0.0  11.93     0  0.573  6.120  76.7  2.2875    1  273   \n",
              "503  504  0.06076   0.0  11.93     0  0.573  6.976  91.0  2.1675    1  273   \n",
              "504  505  0.10959   0.0  11.93     0  0.573  6.794  89.3  2.3889    1  273   \n",
              "505  506  0.04741   0.0  11.93     0  0.573  6.030  80.8  2.5050    1  273   \n",
              "\n",
              "     ptratio   black  lstat  medv  \n",
              "0       15.3  396.90   4.98  24.0  \n",
              "1       17.8  396.90   9.14  21.6  \n",
              "2       17.8  392.83   4.03  34.7  \n",
              "3       18.7  394.63   2.94  33.4  \n",
              "4       18.7  396.90   5.33  36.2  \n",
              "..       ...     ...    ...   ...  \n",
              "501     21.0  391.99   9.67  22.4  \n",
              "502     21.0  396.90   9.08  20.6  \n",
              "503     21.0  396.90   5.64  23.9  \n",
              "504     21.0  393.45   6.48  22.0  \n",
              "505     21.0  396.90   7.88  11.9  \n",
              "\n",
              "[506 rows x 15 columns]"
            ],
            "text/html": [
              "\n",
              "  <div id=\"df-dc9cbf6d-7d97-49c4-a79d-3c00d58b1e68\" class=\"colab-df-container\">\n",
              "    <div>\n",
              "<style scoped>\n",
              "    .dataframe tbody tr th:only-of-type {\n",
              "        vertical-align: middle;\n",
              "    }\n",
              "\n",
              "    .dataframe tbody tr th {\n",
              "        vertical-align: top;\n",
              "    }\n",
              "\n",
              "    .dataframe thead th {\n",
              "        text-align: right;\n",
              "    }\n",
              "</style>\n",
              "<table border=\"1\" class=\"dataframe\">\n",
              "  <thead>\n",
              "    <tr style=\"text-align: right;\">\n",
              "      <th></th>\n",
              "      <th>_c0</th>\n",
              "      <th>crim</th>\n",
              "      <th>zn</th>\n",
              "      <th>indus</th>\n",
              "      <th>chas</th>\n",
              "      <th>nox</th>\n",
              "      <th>rm</th>\n",
              "      <th>age</th>\n",
              "      <th>dis</th>\n",
              "      <th>rad</th>\n",
              "      <th>tax</th>\n",
              "      <th>ptratio</th>\n",
              "      <th>black</th>\n",
              "      <th>lstat</th>\n",
              "      <th>medv</th>\n",
              "    </tr>\n",
              "  </thead>\n",
              "  <tbody>\n",
              "    <tr>\n",
              "      <th>0</th>\n",
              "      <td>1</td>\n",
              "      <td>0.00632</td>\n",
              "      <td>18.0</td>\n",
              "      <td>2.31</td>\n",
              "      <td>0</td>\n",
              "      <td>0.538</td>\n",
              "      <td>6.575</td>\n",
              "      <td>65.2</td>\n",
              "      <td>4.0900</td>\n",
              "      <td>1</td>\n",
              "      <td>296</td>\n",
              "      <td>15.3</td>\n",
              "      <td>396.90</td>\n",
              "      <td>4.98</td>\n",
              "      <td>24.0</td>\n",
              "    </tr>\n",
              "    <tr>\n",
              "      <th>1</th>\n",
              "      <td>2</td>\n",
              "      <td>0.02731</td>\n",
              "      <td>0.0</td>\n",
              "      <td>7.07</td>\n",
              "      <td>0</td>\n",
              "      <td>0.469</td>\n",
              "      <td>6.421</td>\n",
              "      <td>78.9</td>\n",
              "      <td>4.9671</td>\n",
              "      <td>2</td>\n",
              "      <td>242</td>\n",
              "      <td>17.8</td>\n",
              "      <td>396.90</td>\n",
              "      <td>9.14</td>\n",
              "      <td>21.6</td>\n",
              "    </tr>\n",
              "    <tr>\n",
              "      <th>2</th>\n",
              "      <td>3</td>\n",
              "      <td>0.02729</td>\n",
              "      <td>0.0</td>\n",
              "      <td>7.07</td>\n",
              "      <td>0</td>\n",
              "      <td>0.469</td>\n",
              "      <td>7.185</td>\n",
              "      <td>61.1</td>\n",
              "      <td>4.9671</td>\n",
              "      <td>2</td>\n",
              "      <td>242</td>\n",
              "      <td>17.8</td>\n",
              "      <td>392.83</td>\n",
              "      <td>4.03</td>\n",
              "      <td>34.7</td>\n",
              "    </tr>\n",
              "    <tr>\n",
              "      <th>3</th>\n",
              "      <td>4</td>\n",
              "      <td>0.03237</td>\n",
              "      <td>0.0</td>\n",
              "      <td>2.18</td>\n",
              "      <td>0</td>\n",
              "      <td>0.458</td>\n",
              "      <td>6.998</td>\n",
              "      <td>45.8</td>\n",
              "      <td>6.0622</td>\n",
              "      <td>3</td>\n",
              "      <td>222</td>\n",
              "      <td>18.7</td>\n",
              "      <td>394.63</td>\n",
              "      <td>2.94</td>\n",
              "      <td>33.4</td>\n",
              "    </tr>\n",
              "    <tr>\n",
              "      <th>4</th>\n",
              "      <td>5</td>\n",
              "      <td>0.06905</td>\n",
              "      <td>0.0</td>\n",
              "      <td>2.18</td>\n",
              "      <td>0</td>\n",
              "      <td>0.458</td>\n",
              "      <td>7.147</td>\n",
              "      <td>54.2</td>\n",
              "      <td>6.0622</td>\n",
              "      <td>3</td>\n",
              "      <td>222</td>\n",
              "      <td>18.7</td>\n",
              "      <td>396.90</td>\n",
              "      <td>5.33</td>\n",
              "      <td>36.2</td>\n",
              "    </tr>\n",
              "    <tr>\n",
              "      <th>...</th>\n",
              "      <td>...</td>\n",
              "      <td>...</td>\n",
              "      <td>...</td>\n",
              "      <td>...</td>\n",
              "      <td>...</td>\n",
              "      <td>...</td>\n",
              "      <td>...</td>\n",
              "      <td>...</td>\n",
              "      <td>...</td>\n",
              "      <td>...</td>\n",
              "      <td>...</td>\n",
              "      <td>...</td>\n",
              "      <td>...</td>\n",
              "      <td>...</td>\n",
              "      <td>...</td>\n",
              "    </tr>\n",
              "    <tr>\n",
              "      <th>501</th>\n",
              "      <td>502</td>\n",
              "      <td>0.06263</td>\n",
              "      <td>0.0</td>\n",
              "      <td>11.93</td>\n",
              "      <td>0</td>\n",
              "      <td>0.573</td>\n",
              "      <td>6.593</td>\n",
              "      <td>69.1</td>\n",
              "      <td>2.4786</td>\n",
              "      <td>1</td>\n",
              "      <td>273</td>\n",
              "      <td>21.0</td>\n",
              "      <td>391.99</td>\n",
              "      <td>9.67</td>\n",
              "      <td>22.4</td>\n",
              "    </tr>\n",
              "    <tr>\n",
              "      <th>502</th>\n",
              "      <td>503</td>\n",
              "      <td>0.04527</td>\n",
              "      <td>0.0</td>\n",
              "      <td>11.93</td>\n",
              "      <td>0</td>\n",
              "      <td>0.573</td>\n",
              "      <td>6.120</td>\n",
              "      <td>76.7</td>\n",
              "      <td>2.2875</td>\n",
              "      <td>1</td>\n",
              "      <td>273</td>\n",
              "      <td>21.0</td>\n",
              "      <td>396.90</td>\n",
              "      <td>9.08</td>\n",
              "      <td>20.6</td>\n",
              "    </tr>\n",
              "    <tr>\n",
              "      <th>503</th>\n",
              "      <td>504</td>\n",
              "      <td>0.06076</td>\n",
              "      <td>0.0</td>\n",
              "      <td>11.93</td>\n",
              "      <td>0</td>\n",
              "      <td>0.573</td>\n",
              "      <td>6.976</td>\n",
              "      <td>91.0</td>\n",
              "      <td>2.1675</td>\n",
              "      <td>1</td>\n",
              "      <td>273</td>\n",
              "      <td>21.0</td>\n",
              "      <td>396.90</td>\n",
              "      <td>5.64</td>\n",
              "      <td>23.9</td>\n",
              "    </tr>\n",
              "    <tr>\n",
              "      <th>504</th>\n",
              "      <td>505</td>\n",
              "      <td>0.10959</td>\n",
              "      <td>0.0</td>\n",
              "      <td>11.93</td>\n",
              "      <td>0</td>\n",
              "      <td>0.573</td>\n",
              "      <td>6.794</td>\n",
              "      <td>89.3</td>\n",
              "      <td>2.3889</td>\n",
              "      <td>1</td>\n",
              "      <td>273</td>\n",
              "      <td>21.0</td>\n",
              "      <td>393.45</td>\n",
              "      <td>6.48</td>\n",
              "      <td>22.0</td>\n",
              "    </tr>\n",
              "    <tr>\n",
              "      <th>505</th>\n",
              "      <td>506</td>\n",
              "      <td>0.04741</td>\n",
              "      <td>0.0</td>\n",
              "      <td>11.93</td>\n",
              "      <td>0</td>\n",
              "      <td>0.573</td>\n",
              "      <td>6.030</td>\n",
              "      <td>80.8</td>\n",
              "      <td>2.5050</td>\n",
              "      <td>1</td>\n",
              "      <td>273</td>\n",
              "      <td>21.0</td>\n",
              "      <td>396.90</td>\n",
              "      <td>7.88</td>\n",
              "      <td>11.9</td>\n",
              "    </tr>\n",
              "  </tbody>\n",
              "</table>\n",
              "<p>506 rows × 15 columns</p>\n",
              "</div>\n",
              "    <div class=\"colab-df-buttons\">\n",
              "\n",
              "  <div class=\"colab-df-container\">\n",
              "    <button class=\"colab-df-convert\" onclick=\"convertToInteractive('df-dc9cbf6d-7d97-49c4-a79d-3c00d58b1e68')\"\n",
              "            title=\"Convert this dataframe to an interactive table.\"\n",
              "            style=\"display:none;\">\n",
              "\n",
              "  <svg xmlns=\"http://www.w3.org/2000/svg\" height=\"24px\" viewBox=\"0 -960 960 960\">\n",
              "    <path d=\"M120-120v-720h720v720H120Zm60-500h600v-160H180v160Zm220 220h160v-160H400v160Zm0 220h160v-160H400v160ZM180-400h160v-160H180v160Zm440 0h160v-160H620v160ZM180-180h160v-160H180v160Zm440 0h160v-160H620v160Z\"/>\n",
              "  </svg>\n",
              "    </button>\n",
              "\n",
              "  <style>\n",
              "    .colab-df-container {\n",
              "      display:flex;\n",
              "      gap: 12px;\n",
              "    }\n",
              "\n",
              "    .colab-df-convert {\n",
              "      background-color: #E8F0FE;\n",
              "      border: none;\n",
              "      border-radius: 50%;\n",
              "      cursor: pointer;\n",
              "      display: none;\n",
              "      fill: #1967D2;\n",
              "      height: 32px;\n",
              "      padding: 0 0 0 0;\n",
              "      width: 32px;\n",
              "    }\n",
              "\n",
              "    .colab-df-convert:hover {\n",
              "      background-color: #E2EBFA;\n",
              "      box-shadow: 0px 1px 2px rgba(60, 64, 67, 0.3), 0px 1px 3px 1px rgba(60, 64, 67, 0.15);\n",
              "      fill: #174EA6;\n",
              "    }\n",
              "\n",
              "    .colab-df-buttons div {\n",
              "      margin-bottom: 4px;\n",
              "    }\n",
              "\n",
              "    [theme=dark] .colab-df-convert {\n",
              "      background-color: #3B4455;\n",
              "      fill: #D2E3FC;\n",
              "    }\n",
              "\n",
              "    [theme=dark] .colab-df-convert:hover {\n",
              "      background-color: #434B5C;\n",
              "      box-shadow: 0px 1px 3px 1px rgba(0, 0, 0, 0.15);\n",
              "      filter: drop-shadow(0px 1px 2px rgba(0, 0, 0, 0.3));\n",
              "      fill: #FFFFFF;\n",
              "    }\n",
              "  </style>\n",
              "\n",
              "    <script>\n",
              "      const buttonEl =\n",
              "        document.querySelector('#df-dc9cbf6d-7d97-49c4-a79d-3c00d58b1e68 button.colab-df-convert');\n",
              "      buttonEl.style.display =\n",
              "        google.colab.kernel.accessAllowed ? 'block' : 'none';\n",
              "\n",
              "      async function convertToInteractive(key) {\n",
              "        const element = document.querySelector('#df-dc9cbf6d-7d97-49c4-a79d-3c00d58b1e68');\n",
              "        const dataTable =\n",
              "          await google.colab.kernel.invokeFunction('convertToInteractive',\n",
              "                                                    [key], {});\n",
              "        if (!dataTable) return;\n",
              "\n",
              "        const docLinkHtml = 'Like what you see? Visit the ' +\n",
              "          '<a target=\"_blank\" href=https://colab.research.google.com/notebooks/data_table.ipynb>data table notebook</a>'\n",
              "          + ' to learn more about interactive tables.';\n",
              "        element.innerHTML = '';\n",
              "        dataTable['output_type'] = 'display_data';\n",
              "        await google.colab.output.renderOutput(dataTable, element);\n",
              "        const docLink = document.createElement('div');\n",
              "        docLink.innerHTML = docLinkHtml;\n",
              "        element.appendChild(docLink);\n",
              "      }\n",
              "    </script>\n",
              "  </div>\n",
              "\n",
              "\n",
              "<div id=\"df-b4e2a438-91f1-46c8-9bcd-26203249a070\">\n",
              "  <button class=\"colab-df-quickchart\" onclick=\"quickchart('df-b4e2a438-91f1-46c8-9bcd-26203249a070')\"\n",
              "            title=\"Suggest charts\"\n",
              "            style=\"display:none;\">\n",
              "\n",
              "<svg xmlns=\"http://www.w3.org/2000/svg\" height=\"24px\"viewBox=\"0 0 24 24\"\n",
              "     width=\"24px\">\n",
              "    <g>\n",
              "        <path d=\"M19 3H5c-1.1 0-2 .9-2 2v14c0 1.1.9 2 2 2h14c1.1 0 2-.9 2-2V5c0-1.1-.9-2-2-2zM9 17H7v-7h2v7zm4 0h-2V7h2v10zm4 0h-2v-4h2v4z\"/>\n",
              "    </g>\n",
              "</svg>\n",
              "  </button>\n",
              "\n",
              "<style>\n",
              "  .colab-df-quickchart {\n",
              "      --bg-color: #E8F0FE;\n",
              "      --fill-color: #1967D2;\n",
              "      --hover-bg-color: #E2EBFA;\n",
              "      --hover-fill-color: #174EA6;\n",
              "      --disabled-fill-color: #AAA;\n",
              "      --disabled-bg-color: #DDD;\n",
              "  }\n",
              "\n",
              "  [theme=dark] .colab-df-quickchart {\n",
              "      --bg-color: #3B4455;\n",
              "      --fill-color: #D2E3FC;\n",
              "      --hover-bg-color: #434B5C;\n",
              "      --hover-fill-color: #FFFFFF;\n",
              "      --disabled-bg-color: #3B4455;\n",
              "      --disabled-fill-color: #666;\n",
              "  }\n",
              "\n",
              "  .colab-df-quickchart {\n",
              "    background-color: var(--bg-color);\n",
              "    border: none;\n",
              "    border-radius: 50%;\n",
              "    cursor: pointer;\n",
              "    display: none;\n",
              "    fill: var(--fill-color);\n",
              "    height: 32px;\n",
              "    padding: 0;\n",
              "    width: 32px;\n",
              "  }\n",
              "\n",
              "  .colab-df-quickchart:hover {\n",
              "    background-color: var(--hover-bg-color);\n",
              "    box-shadow: 0 1px 2px rgba(60, 64, 67, 0.3), 0 1px 3px 1px rgba(60, 64, 67, 0.15);\n",
              "    fill: var(--button-hover-fill-color);\n",
              "  }\n",
              "\n",
              "  .colab-df-quickchart-complete:disabled,\n",
              "  .colab-df-quickchart-complete:disabled:hover {\n",
              "    background-color: var(--disabled-bg-color);\n",
              "    fill: var(--disabled-fill-color);\n",
              "    box-shadow: none;\n",
              "  }\n",
              "\n",
              "  .colab-df-spinner {\n",
              "    border: 2px solid var(--fill-color);\n",
              "    border-color: transparent;\n",
              "    border-bottom-color: var(--fill-color);\n",
              "    animation:\n",
              "      spin 1s steps(1) infinite;\n",
              "  }\n",
              "\n",
              "  @keyframes spin {\n",
              "    0% {\n",
              "      border-color: transparent;\n",
              "      border-bottom-color: var(--fill-color);\n",
              "      border-left-color: var(--fill-color);\n",
              "    }\n",
              "    20% {\n",
              "      border-color: transparent;\n",
              "      border-left-color: var(--fill-color);\n",
              "      border-top-color: var(--fill-color);\n",
              "    }\n",
              "    30% {\n",
              "      border-color: transparent;\n",
              "      border-left-color: var(--fill-color);\n",
              "      border-top-color: var(--fill-color);\n",
              "      border-right-color: var(--fill-color);\n",
              "    }\n",
              "    40% {\n",
              "      border-color: transparent;\n",
              "      border-right-color: var(--fill-color);\n",
              "      border-top-color: var(--fill-color);\n",
              "    }\n",
              "    60% {\n",
              "      border-color: transparent;\n",
              "      border-right-color: var(--fill-color);\n",
              "    }\n",
              "    80% {\n",
              "      border-color: transparent;\n",
              "      border-right-color: var(--fill-color);\n",
              "      border-bottom-color: var(--fill-color);\n",
              "    }\n",
              "    90% {\n",
              "      border-color: transparent;\n",
              "      border-bottom-color: var(--fill-color);\n",
              "    }\n",
              "  }\n",
              "</style>\n",
              "\n",
              "  <script>\n",
              "    async function quickchart(key) {\n",
              "      const quickchartButtonEl =\n",
              "        document.querySelector('#' + key + ' button');\n",
              "      quickchartButtonEl.disabled = true;  // To prevent multiple clicks.\n",
              "      quickchartButtonEl.classList.add('colab-df-spinner');\n",
              "      try {\n",
              "        const charts = await google.colab.kernel.invokeFunction(\n",
              "            'suggestCharts', [key], {});\n",
              "      } catch (error) {\n",
              "        console.error('Error during call to suggestCharts:', error);\n",
              "      }\n",
              "      quickchartButtonEl.classList.remove('colab-df-spinner');\n",
              "      quickchartButtonEl.classList.add('colab-df-quickchart-complete');\n",
              "    }\n",
              "    (() => {\n",
              "      let quickchartButtonEl =\n",
              "        document.querySelector('#df-b4e2a438-91f1-46c8-9bcd-26203249a070 button');\n",
              "      quickchartButtonEl.style.display =\n",
              "        google.colab.kernel.accessAllowed ? 'block' : 'none';\n",
              "    })();\n",
              "  </script>\n",
              "</div>\n",
              "    </div>\n",
              "  </div>\n"
            ],
            "application/vnd.google.colaboratory.intrinsic+json": {
              "type": "dataframe",
              "summary": "{\n  \"name\": \"house_df\",\n  \"rows\": 506,\n  \"fields\": [\n    {\n      \"column\": \"_c0\",\n      \"properties\": {\n        \"dtype\": \"int32\",\n        \"num_unique_values\": 506,\n        \"samples\": [\n          174,\n          275,\n          492\n        ],\n        \"semantic_type\": \"\",\n        \"description\": \"\"\n      }\n    },\n    {\n      \"column\": \"crim\",\n      \"properties\": {\n        \"dtype\": \"number\",\n        \"std\": 8.60154510533249,\n        \"min\": 0.00632,\n        \"max\": 88.9762,\n        \"num_unique_values\": 504,\n        \"samples\": [\n          0.09178,\n          0.05644,\n          0.10574\n        ],\n        \"semantic_type\": \"\",\n        \"description\": \"\"\n      }\n    },\n    {\n      \"column\": \"zn\",\n      \"properties\": {\n        \"dtype\": \"number\",\n        \"std\": 23.32245299451514,\n        \"min\": 0.0,\n        \"max\": 100.0,\n        \"num_unique_values\": 26,\n        \"samples\": [\n          25.0,\n          30.0,\n          18.0\n        ],\n        \"semantic_type\": \"\",\n        \"description\": \"\"\n      }\n    },\n    {\n      \"column\": \"indus\",\n      \"properties\": {\n        \"dtype\": \"number\",\n        \"std\": 6.860352940897585,\n        \"min\": 0.46,\n        \"max\": 27.74,\n        \"num_unique_values\": 76,\n        \"samples\": [\n          8.14,\n          1.47,\n          1.22\n        ],\n        \"semantic_type\": \"\",\n        \"description\": \"\"\n      }\n    },\n    {\n      \"column\": \"chas\",\n      \"properties\": {\n        \"dtype\": \"int32\",\n        \"num_unique_values\": 2,\n        \"samples\": [\n          1,\n          0\n        ],\n        \"semantic_type\": \"\",\n        \"description\": \"\"\n      }\n    },\n    {\n      \"column\": \"nox\",\n      \"properties\": {\n        \"dtype\": \"number\",\n        \"std\": 0.11587767566755595,\n        \"min\": 0.385,\n        \"max\": 0.871,\n        \"num_unique_values\": 81,\n        \"samples\": [\n          0.401,\n          0.538\n        ],\n        \"semantic_type\": \"\",\n        \"description\": \"\"\n      }\n    },\n    {\n      \"column\": \"rm\",\n      \"properties\": {\n        \"dtype\": \"number\",\n        \"std\": 0.7026171434153233,\n        \"min\": 3.561,\n        \"max\": 8.78,\n        \"num_unique_values\": 446,\n        \"samples\": [\n          6.849,\n          4.88\n        ],\n        \"semantic_type\": \"\",\n        \"description\": \"\"\n      }\n    },\n    {\n      \"column\": \"age\",\n      \"properties\": {\n        \"dtype\": \"number\",\n        \"std\": 28.148861406903617,\n        \"min\": 2.9,\n        \"max\": 100.0,\n        \"num_unique_values\": 356,\n        \"samples\": [\n          51.8,\n          33.8\n        ],\n        \"semantic_type\": \"\",\n        \"description\": \"\"\n      }\n    },\n    {\n      \"column\": \"dis\",\n      \"properties\": {\n        \"dtype\": \"number\",\n        \"std\": 2.105710126627611,\n        \"min\": 1.1296,\n        \"max\": 12.1265,\n        \"num_unique_values\": 412,\n        \"samples\": [\n          2.2955,\n          4.2515\n        ],\n        \"semantic_type\": \"\",\n        \"description\": \"\"\n      }\n    },\n    {\n      \"column\": \"rad\",\n      \"properties\": {\n        \"dtype\": \"int32\",\n        \"num_unique_values\": 9,\n        \"samples\": [\n          7,\n          2\n        ],\n        \"semantic_type\": \"\",\n        \"description\": \"\"\n      }\n    },\n    {\n      \"column\": \"tax\",\n      \"properties\": {\n        \"dtype\": \"int32\",\n        \"num_unique_values\": 66,\n        \"samples\": [\n          370,\n          666\n        ],\n        \"semantic_type\": \"\",\n        \"description\": \"\"\n      }\n    },\n    {\n      \"column\": \"ptratio\",\n      \"properties\": {\n        \"dtype\": \"number\",\n        \"std\": 2.1649455237144406,\n        \"min\": 12.6,\n        \"max\": 22.0,\n        \"num_unique_values\": 46,\n        \"samples\": [\n          19.6,\n          15.6\n        ],\n        \"semantic_type\": \"\",\n        \"description\": \"\"\n      }\n    },\n    {\n      \"column\": \"black\",\n      \"properties\": {\n        \"dtype\": \"number\",\n        \"std\": 91.29486438415783,\n        \"min\": 0.32,\n        \"max\": 396.9,\n        \"num_unique_values\": 357,\n        \"samples\": [\n          396.24,\n          395.11\n        ],\n        \"semantic_type\": \"\",\n        \"description\": \"\"\n      }\n    },\n    {\n      \"column\": \"lstat\",\n      \"properties\": {\n        \"dtype\": \"number\",\n        \"std\": 7.141061511348571,\n        \"min\": 1.73,\n        \"max\": 37.97,\n        \"num_unique_values\": 455,\n        \"samples\": [\n          6.15,\n          4.32\n        ],\n        \"semantic_type\": \"\",\n        \"description\": \"\"\n      }\n    },\n    {\n      \"column\": \"medv\",\n      \"properties\": {\n        \"dtype\": \"number\",\n        \"std\": 9.197104087379818,\n        \"min\": 5.0,\n        \"max\": 50.0,\n        \"num_unique_values\": 229,\n        \"samples\": [\n          14.1,\n          22.5\n        ],\n        \"semantic_type\": \"\",\n        \"description\": \"\"\n      }\n    }\n  ]\n}"
            }
          },
          "metadata": {},
          "execution_count": 7
        }
      ],
      "source": [
        "## Descriptive analysis\n",
        "house_df.toPandas()"
      ]
    },
    {
      "cell_type": "code",
      "execution_count": null,
      "metadata": {
        "id": "8trkM3jHZDt0"
      },
      "outputs": [],
      "source": [
        "# import pandas as pd\n",
        "# from matplotlib import cm\n",
        "# from pandas.plotting import scatter_matrix\n",
        "# numeric_features = [t[0] for t in house_df.dtypes if t[1] == 'int' or t[1] == 'double']\n",
        "# sampled_data = house_df.select(numeric_features).sample(False, 0.8).toPandas()\n",
        "# axs = scatter_matrix(sampled_data, figsize=(10, 10))\n",
        "# n = len(sampled_data.columns)\n",
        "# for i in range(n):\n",
        "#     v = axs[i, 0]\n",
        "#     v.yaxis.label.set_rotation(0)\n",
        "#     v.yaxis.label.set_ha('right')\n",
        "#     v.set_yticks(())\n",
        "#     h = axs[n-1, i]\n",
        "#     h.xaxis.label.set_rotation(90)\n",
        "#     h.set_xticks(())"
      ]
    },
    {
      "cell_type": "markdown",
      "source": [
        "This creates a VectorAssembler object called vectorAssembler. It takes two main parameters:\n",
        "\n",
        "inputCols: A list of column names to assemble into the feature vector.\n",
        "outputCol: The name of the output column that will contain the assembled feature vectors."
      ],
      "metadata": {
        "id": "8Qrfwb_GesVU"
      }
    },
    {
      "cell_type": "markdown",
      "source": [
        "This applies the VectorAssembler transformation to the DataFrame house_df, adding a new column named 'features' containing the assembled feature vectors."
      ],
      "metadata": {
        "id": "tJnoQRc1euLX"
      }
    },
    {
      "cell_type": "markdown",
      "source": [
        "This selects only the 'features' column and the 'medv' column (median value of owner-occupied homes) from the transformed DataFrame vhouse_df"
      ],
      "metadata": {
        "id": "2_3gkwCbeu-j"
      }
    },
    {
      "cell_type": "code",
      "execution_count": 8,
      "metadata": {
        "colab": {
          "base_uri": "https://localhost:8080/"
        },
        "id": "AUVJAxD3Z3Rz",
        "outputId": "5e6c7500-7a33-4e19-b753-445bc8c8f3cd"
      },
      "outputs": [
        {
          "output_type": "stream",
          "name": "stdout",
          "text": [
            "+--------------------+----+\n",
            "|            features|medv|\n",
            "+--------------------+----+\n",
            "|[0.00632,18.0,2.3...|24.0|\n",
            "|[0.02731,0.0,7.07...|21.6|\n",
            "|[0.02729,0.0,7.07...|34.7|\n",
            "+--------------------+----+\n",
            "only showing top 3 rows\n",
            "\n"
          ]
        }
      ],
      "source": [
        "from pyspark.ml.feature import VectorAssembler\n",
        "vectorAssembler = VectorAssembler(inputCols = ['crim', 'zn', 'indus', 'chas', 'nox', 'rm', 'age', 'dis', 'rad', 'tax', 'ptratio', 'black', 'lstat'], outputCol = 'features')\n",
        "vhouse_df = vectorAssembler.transform(house_df)\n",
        "vhouse_df = vhouse_df.select(['features', 'medv'])\n",
        "vhouse_df.show(3)"
      ]
    },
    {
      "cell_type": "code",
      "source": [],
      "metadata": {
        "id": "wCDkg4MCfya1"
      },
      "execution_count": null,
      "outputs": []
    },
    {
      "cell_type": "markdown",
      "source": [
        "house_df.select(i): This selects the column named i from the DataFrame house_df.\n",
        ".take(1): This retrieves the first row of the DataFrame as a list.\n",
        "[0][0]: This accesses the first element of the first row, effectively retrieving the value of the first element in the column.\n",
        "isinstance(): This is a Python built-in function used to check if an object (in this case, the first value of the column) is an instance of a particular class or type.\n",
        "six.string_types: This is a tuple containing string types from both Python 2 and 3, provided by the six module. It includes str in Python 3 and basestring in Python 2.\n",
        "Putting it all together, the isinstance() function is checking if the first value of the column i is not of string type. If it's not a string, it implies that the column is numeric or of some other non-string type. This check is necessary before performing numeric operations like correlation calculations, as strings cannot be correlated with numeric values."
      ],
      "metadata": {
        "id": "H4Gt5gAyfxu-"
      }
    },
    {
      "cell_type": "code",
      "execution_count": 9,
      "metadata": {
        "colab": {
          "base_uri": "https://localhost:8080/"
        },
        "id": "W7GoFue1ZLL_",
        "outputId": "98767ef6-5ed4-42d3-fda5-2fa4a6608614"
      },
      "outputs": [
        {
          "output_type": "stream",
          "name": "stdout",
          "text": [
            "Correlation to medv for  _c0 -0.22660364293533927\n",
            "Correlation to medv for  crim -0.38830460858681154\n",
            "Correlation to medv for  zn 0.3604453424505433\n",
            "Correlation to medv for  indus -0.4837251600283728\n",
            "Correlation to medv for  chas 0.1752601771902987\n",
            "Correlation to medv for  nox -0.4273207723732821\n",
            "Correlation to medv for  rm 0.6953599470715401\n",
            "Correlation to medv for  age -0.3769545650045961\n",
            "Correlation to medv for  dis 0.249928734085904\n",
            "Correlation to medv for  rad -0.38162623063977735\n",
            "Correlation to medv for  tax -0.46853593356776674\n",
            "Correlation to medv for  ptratio -0.5077866855375622\n",
            "Correlation to medv for  black 0.3334608196570661\n",
            "Correlation to medv for  lstat -0.7376627261740145\n",
            "Correlation to medv for  medv 1.0\n"
          ]
        }
      ],
      "source": [
        "import six\n",
        "for i in house_df.columns:\n",
        "    if not( isinstance(house_df.select(i).take(1)[0][0], six.string_types)):\n",
        "        print( \"Correlation to medv for \", i, house_df.stat.corr('medv',i))"
      ]
    },
    {
      "cell_type": "code",
      "execution_count": 10,
      "metadata": {
        "id": "UBbp5sQCaDP0"
      },
      "outputs": [],
      "source": [
        "splits = vhouse_df.randomSplit([0.7, 0.3])\n",
        "train_df = splits[0]\n",
        "test_df = splits[1]\n",
        "#train_df,test_df=vhouse_df.randomSplit([0.7,0.3])"
      ]
    },
    {
      "cell_type": "code",
      "execution_count": 11,
      "metadata": {
        "colab": {
          "base_uri": "https://localhost:8080/"
        },
        "id": "dB_cznS3aIC-",
        "outputId": "41453a5c-e7ec-4867-8cec-39e53c3caefb"
      },
      "outputs": [
        {
          "output_type": "stream",
          "name": "stdout",
          "text": [
            "Coefficients: [-0.04493109084944115,0.03802964506640723,-0.02926887475000392,3.571908453163485,-17.412544055865837,4.4187563461736,0.0002541544491097291,-1.408542016491922,0.24412192425776144,-0.011104793434733364,-0.9670363702622206,0.01081484049215095,-0.4265238207584629]\n",
            "Intercept: 31.037325520806316\n"
          ]
        }
      ],
      "source": [
        "from pyspark.ml.regression import LinearRegression\n",
        "lr = LinearRegression(featuresCol = 'features', labelCol='medv', maxIter=10)\n",
        "lr_model = lr.fit(train_df)\n",
        "print(\"Coefficients: \" + str(lr_model.coefficients))\n",
        "print(\"Intercept: \" + str(lr_model.intercept))"
      ]
    },
    {
      "cell_type": "code",
      "execution_count": 12,
      "metadata": {
        "id": "q49jRoJSaNi1",
        "colab": {
          "base_uri": "https://localhost:8080/"
        },
        "outputId": "92f56146-8e6c-4b40-d489-5360374ff3c9"
      },
      "outputs": [
        {
          "output_type": "stream",
          "name": "stdout",
          "text": [
            "RMSE: 4.436565\n",
            "r2: 0.752717\n"
          ]
        }
      ],
      "source": [
        "trainingSummary = lr_model.summary\n",
        "print(\"RMSE: %f\" % trainingSummary.rootMeanSquaredError)\n",
        "print(\"r2: %f\" % trainingSummary.r2)"
      ]
    },
    {
      "cell_type": "code",
      "execution_count": 13,
      "metadata": {
        "id": "pC9IQ9nraS1z",
        "colab": {
          "base_uri": "https://localhost:8080/"
        },
        "outputId": "a54721ea-3efa-46af-b16b-2e961c81b227"
      },
      "outputs": [
        {
          "output_type": "stream",
          "name": "stdout",
          "text": [
            "+------------------+----+--------------------+\n",
            "|        prediction|medv|            features|\n",
            "+------------------+----+--------------------+\n",
            "|31.644653814309237|32.2|[0.00906,90.0,2.9...|\n",
            "|31.097307151408252|29.1|[0.01439,60.0,2.9...|\n",
            "| 37.00907499483296|44.0|[0.01538,90.0,3.7...|\n",
            "|20.205010632051906|20.1|[0.01965,80.0,1.7...|\n",
            "| 42.89384361742501|50.0|[0.02009,95.0,2.6...|\n",
            "+------------------+----+--------------------+\n",
            "only showing top 5 rows\n",
            "\n",
            "R Squared (R2) on test data = 0.702398\n"
          ]
        }
      ],
      "source": [
        "lr_predictions = lr_model.transform(test_df)\n",
        "lr_predictions.select(\"prediction\",\"medv\",\"features\").show(5)\n",
        "from pyspark.ml.evaluation import RegressionEvaluator\n",
        "lr_evaluator = RegressionEvaluator(predictionCol=\"prediction\", \\\n",
        "                 labelCol=\"medv\",metricName=\"r2\")\n",
        "print(\"R Squared (R2) on test data = %g\" % lr_evaluator.evaluate(lr_predictions))"
      ]
    },
    {
      "cell_type": "code",
      "execution_count": 14,
      "metadata": {
        "id": "5knc-1egaVjS",
        "colab": {
          "base_uri": "https://localhost:8080/"
        },
        "outputId": "01674191-5770-45a5-9235-5a561ac22c34"
      },
      "outputs": [
        {
          "output_type": "stream",
          "name": "stdout",
          "text": [
            "numIterations: 0\n",
            "objectiveHistory: [0.0]\n",
            "+-------------------+\n",
            "|          residuals|\n",
            "+-------------------+\n",
            "|-5.9247405300228415|\n",
            "| -5.394402323502554|\n",
            "| 1.9487567489216673|\n",
            "|   4.57463902074829|\n",
            "| 3.4480427205619026|\n",
            "|  9.216449744704384|\n",
            "|-0.7870770728191729|\n",
            "|-2.6194610627941515|\n",
            "|  4.436429470087354|\n",
            "|  5.238246239044912|\n",
            "| 2.4729810489935744|\n",
            "| -1.655016194473962|\n",
            "|  9.002492793857485|\n",
            "|  5.254837292560445|\n",
            "|-0.7638282436127994|\n",
            "|-3.5398939365105306|\n",
            "| -2.885570383272512|\n",
            "| 4.0855424798167554|\n",
            "| 3.5904309021415486|\n",
            "|-0.5360632009767521|\n",
            "+-------------------+\n",
            "only showing top 20 rows\n",
            "\n"
          ]
        }
      ],
      "source": [
        "print(\"numIterations: %d\" % trainingSummary.totalIterations)\n",
        "print(\"objectiveHistory: %s\" % str(trainingSummary.objectiveHistory))\n",
        "trainingSummary.residuals.show()"
      ]
    },
    {
      "cell_type": "code",
      "execution_count": 15,
      "metadata": {
        "colab": {
          "base_uri": "https://localhost:8080/"
        },
        "id": "8SDbrcFwaX9u",
        "outputId": "f5ab023c-98d3-4f92-da8e-6c64d4842740"
      },
      "outputs": [
        {
          "output_type": "stream",
          "name": "stdout",
          "text": [
            "+------------------+----+--------------------+\n",
            "|        prediction|medv|            features|\n",
            "+------------------+----+--------------------+\n",
            "|31.644653814309237|32.2|[0.00906,90.0,2.9...|\n",
            "|31.097307151408252|29.1|[0.01439,60.0,2.9...|\n",
            "| 37.00907499483296|44.0|[0.01538,90.0,3.7...|\n",
            "|20.205010632051906|20.1|[0.01965,80.0,1.7...|\n",
            "| 42.89384361742501|50.0|[0.02009,95.0,2.6...|\n",
            "|24.495076471518047|24.7|[0.02055,85.0,0.7...|\n",
            "| 22.75777966576431|16.5|[0.02498,0.0,1.89...|\n",
            "|30.547748618151896|34.7|[0.02729,0.0,7.07...|\n",
            "|25.040821496974914|21.6|[0.02731,0.0,7.07...|\n",
            "| 30.56224249270952|30.8|[0.02763,75.0,2.9...|\n",
            "|29.809106667198616|34.9|[0.0315,95.0,1.47...|\n",
            "| 28.58975552551531|33.4|[0.03237,0.0,2.18...|\n",
            "| 33.45405384139176|34.9|[0.03359,75.0,2.9...|\n",
            "| 28.79200829907408|24.1|[0.03445,82.5,2.0...|\n",
            "|41.721154644869905|48.5|[0.0351,95.0,2.68...|\n",
            "|28.719534882141396|22.0|[0.03537,34.0,6.0...|\n",
            "|24.585572279351226|22.9|[0.03551,25.0,4.8...|\n",
            "|21.242754389377286|20.7|[0.03738,0.0,5.19...|\n",
            "| 26.36703482648067|23.2|[0.03871,52.5,5.3...|\n",
            "|27.421968941871256|22.0|[0.03932,0.0,3.41...|\n",
            "+------------------+----+--------------------+\n",
            "only showing top 20 rows\n",
            "\n"
          ]
        }
      ],
      "source": [
        "predictions = lr_model.transform(test_df)\n",
        "predictions.select(\"prediction\",\"medv\",\"features\").show()"
      ]
    },
    {
      "cell_type": "markdown",
      "metadata": {
        "id": "ha_HegEaG5LR"
      },
      "source": [
        "## Decision tree regression"
      ]
    },
    {
      "cell_type": "code",
      "execution_count": 16,
      "metadata": {
        "colab": {
          "base_uri": "https://localhost:8080/"
        },
        "id": "HVcnDdmWacTG",
        "outputId": "49cb1e75-3204-4364-ec67-08f03dbc260e"
      },
      "outputs": [
        {
          "output_type": "stream",
          "name": "stdout",
          "text": [
            "Root Mean Squared Error (RMSE) on test data = 4.08266\n"
          ]
        }
      ],
      "source": [
        "from pyspark.ml.regression import DecisionTreeRegressor\n",
        "dt = DecisionTreeRegressor(featuresCol ='features', labelCol = 'medv')\n",
        "dt_model = dt.fit(train_df)\n",
        "dt_predictions = dt_model.transform(test_df)\n",
        "dt_evaluator = RegressionEvaluator(\n",
        "    labelCol=\"medv\", predictionCol=\"prediction\", metricName=\"rmse\")\n",
        "rmse = dt_evaluator.evaluate(dt_predictions)\n",
        "print(\"Root Mean Squared Error (RMSE) on test data = %g\" % rmse)"
      ]
    },
    {
      "cell_type": "code",
      "execution_count": 17,
      "metadata": {
        "colab": {
          "base_uri": "https://localhost:8080/"
        },
        "id": "74FsFxctRS8N",
        "outputId": "6654ba28-c6de-4afd-cc54-b2c85f7056cf"
      },
      "outputs": [
        {
          "output_type": "execute_result",
          "data": {
            "text/plain": [
              "0.8234582044601688"
            ]
          },
          "metadata": {},
          "execution_count": 17
        }
      ],
      "source": [
        "lr_evaluator.evaluate(dt_predictions)"
      ]
    },
    {
      "cell_type": "code",
      "execution_count": 18,
      "metadata": {
        "colab": {
          "base_uri": "https://localhost:8080/"
        },
        "id": "-Z9JE0l_G_eG",
        "outputId": "f27e1842-ebd8-4ef7-d057-5422b2a13e90"
      },
      "outputs": [
        {
          "output_type": "execute_result",
          "data": {
            "text/plain": [
              "SparseVector(13, {0: 0.0248, 2: 0.0055, 4: 0.0165, 5: 0.3111, 6: 0.0043, 7: 0.071, 10: 0.0208, 11: 0.0084, 12: 0.5375})"
            ]
          },
          "metadata": {},
          "execution_count": 18
        }
      ],
      "source": [
        "dt_model.featureImportances"
      ]
    },
    {
      "cell_type": "code",
      "execution_count": 19,
      "metadata": {
        "colab": {
          "base_uri": "https://localhost:8080/"
        },
        "id": "HuYvf9ubHCJj",
        "outputId": "be1cce10-508a-42e3-e2a6-1e6f4abc460f"
      },
      "outputs": [
        {
          "output_type": "execute_result",
          "data": {
            "text/plain": [
              "[Row(_c0=1, crim=0.00632, zn=18.0, indus=2.31, chas=0, nox=0.538, rm=6.575, age=65.2, dis=4.09, rad=1, tax=296, ptratio=15.3, black=396.9, lstat=4.98, medv=24.0)]"
            ]
          },
          "metadata": {},
          "execution_count": 19
        }
      ],
      "source": [
        "house_df.take(1)"
      ]
    },
    {
      "cell_type": "markdown",
      "metadata": {
        "id": "cSfIc0bgHFmZ"
      },
      "source": [
        "## Gradient-boosted tree regression"
      ]
    },
    {
      "cell_type": "code",
      "execution_count": 20,
      "metadata": {
        "colab": {
          "base_uri": "https://localhost:8080/"
        },
        "id": "4NMc8U2RHFEt",
        "outputId": "3c56e542-10f2-4e75-97fe-ce53555e5e00"
      },
      "outputs": [
        {
          "output_type": "stream",
          "name": "stdout",
          "text": [
            "+------------------+----+--------------------+\n",
            "|        prediction|medv|            features|\n",
            "+------------------+----+--------------------+\n",
            "|31.601352199003433|32.2|[0.00906,90.0,2.9...|\n",
            "| 24.90985753009525|29.1|[0.01439,60.0,2.9...|\n",
            "| 32.95700248570444|44.0|[0.01538,90.0,3.7...|\n",
            "|19.215097518164807|20.1|[0.01965,80.0,1.7...|\n",
            "| 48.58339103675291|50.0|[0.02009,95.0,2.6...|\n",
            "+------------------+----+--------------------+\n",
            "only showing top 5 rows\n",
            "\n"
          ]
        }
      ],
      "source": [
        "from pyspark.ml.regression import GBTRegressor\n",
        "gbt = GBTRegressor(featuresCol = 'features', labelCol = 'medv', maxIter=10)\n",
        "gbt_model = gbt.fit(train_df)\n",
        "gbt_predictions = gbt_model.transform(test_df)\n",
        "gbt_predictions.select('prediction', 'medv', 'features').show(5)"
      ]
    },
    {
      "cell_type": "code",
      "execution_count": 21,
      "metadata": {
        "colab": {
          "base_uri": "https://localhost:8080/"
        },
        "id": "chtWW3UgHLo0",
        "outputId": "efe17b99-4f41-418f-8170-f210b6667e8a"
      },
      "outputs": [
        {
          "output_type": "stream",
          "name": "stdout",
          "text": [
            "Root Mean Squared Error (RMSE) on test data = 4.08063\n"
          ]
        }
      ],
      "source": [
        "gbt_evaluator = RegressionEvaluator(\n",
        "    labelCol=\"medv\", predictionCol=\"prediction\", metricName=\"rmse\")\n",
        "rmse = gbt_evaluator.evaluate(gbt_predictions)\n",
        "print(\"Root Mean Squared Error (RMSE) on test data = %g\" % rmse)"
      ]
    },
    {
      "cell_type": "code",
      "source": [
        "#practice\n"
      ],
      "metadata": {
        "id": "kQMQoTPjZwNx"
      },
      "execution_count": null,
      "outputs": []
    },
    {
      "cell_type": "code",
      "source": [
        "import pandas as pd\n",
        "import numpy as np\n",
        "import pyspark.pandas as ps\n",
        "from pyspark.sql import SparkSession"
      ],
      "metadata": {
        "colab": {
          "base_uri": "https://localhost:8080/"
        },
        "id": "Dr-rAyxvZxj8",
        "outputId": "c9f1c8b3-63f5-40a8-9243-d7b544810223"
      },
      "execution_count": null,
      "outputs": [
        {
          "output_type": "stream",
          "name": "stderr",
          "text": [
            "/usr/local/lib/python3.10/dist-packages/pyspark/pandas/__init__.py:50: UserWarning: 'PYARROW_IGNORE_TIMEZONE' environment variable was not set. It is required to set this environment variable to '1' in both driver and executor sides if you use pyarrow>=2.0.0. pandas-on-Spark will set it for you but it does not work if there is a Spark context already launched.\n",
            "  warnings.warn(\n"
          ]
        }
      ]
    },
    {
      "cell_type": "code",
      "source": [
        "s = ps.Series([1, 3, 5, np.nan, 6, 8])"
      ],
      "metadata": {
        "id": "6g9gvlRYZycl"
      },
      "execution_count": null,
      "outputs": []
    },
    {
      "cell_type": "code",
      "source": [
        "s"
      ],
      "metadata": {
        "colab": {
          "base_uri": "https://localhost:8080/"
        },
        "id": "MNuCdSXbZ2Xd",
        "outputId": "72c0311c-b0a6-4fed-f3e0-a907cde6dccf"
      },
      "execution_count": null,
      "outputs": [
        {
          "output_type": "execute_result",
          "data": {
            "text/plain": [
              "0    1.0\n",
              "1    3.0\n",
              "2    5.0\n",
              "3    NaN\n",
              "4    6.0\n",
              "5    8.0\n",
              "dtype: float64"
            ]
          },
          "metadata": {},
          "execution_count": 27
        }
      ]
    },
    {
      "cell_type": "code",
      "source": [
        "psdf = ps.DataFrame(\n",
        "    {'a': [1, 2, 3, 4, 5, 6],\n",
        "     'b': [100, 200, 300, 400, 500, 600],\n",
        "     'c': [\"one\", \"two\", \"three\", \"four\", \"five\", \"six\"]},\n",
        "    index=[10, 20, 30, 40, 50, 60])"
      ],
      "metadata": {
        "id": "RMtfPv1_aMIb"
      },
      "execution_count": null,
      "outputs": []
    },
    {
      "cell_type": "code",
      "source": [
        "psdf"
      ],
      "metadata": {
        "colab": {
          "base_uri": "https://localhost:8080/",
          "height": 237
        },
        "id": "LXDxJ0mPaMQy",
        "outputId": "d112caa4-30bb-416f-85d2-5e6402887be5"
      },
      "execution_count": null,
      "outputs": [
        {
          "output_type": "execute_result",
          "data": {
            "text/plain": [
              "    a    b      c\n",
              "10  1  100    one\n",
              "20  2  200    two\n",
              "30  3  300  three\n",
              "40  4  400   four\n",
              "50  5  500   five\n",
              "60  6  600    six"
            ],
            "text/html": [
              "<div>\n",
              "<style scoped>\n",
              "    .dataframe tbody tr th:only-of-type {\n",
              "        vertical-align: middle;\n",
              "    }\n",
              "\n",
              "    .dataframe tbody tr th {\n",
              "        vertical-align: top;\n",
              "    }\n",
              "\n",
              "    .dataframe thead th {\n",
              "        text-align: right;\n",
              "    }\n",
              "</style>\n",
              "<table border=\"1\" class=\"dataframe\">\n",
              "  <thead>\n",
              "    <tr style=\"text-align: right;\">\n",
              "      <th></th>\n",
              "      <th>a</th>\n",
              "      <th>b</th>\n",
              "      <th>c</th>\n",
              "    </tr>\n",
              "  </thead>\n",
              "  <tbody>\n",
              "    <tr>\n",
              "      <th>10</th>\n",
              "      <td>1</td>\n",
              "      <td>100</td>\n",
              "      <td>one</td>\n",
              "    </tr>\n",
              "    <tr>\n",
              "      <th>20</th>\n",
              "      <td>2</td>\n",
              "      <td>200</td>\n",
              "      <td>two</td>\n",
              "    </tr>\n",
              "    <tr>\n",
              "      <th>30</th>\n",
              "      <td>3</td>\n",
              "      <td>300</td>\n",
              "      <td>three</td>\n",
              "    </tr>\n",
              "    <tr>\n",
              "      <th>40</th>\n",
              "      <td>4</td>\n",
              "      <td>400</td>\n",
              "      <td>four</td>\n",
              "    </tr>\n",
              "    <tr>\n",
              "      <th>50</th>\n",
              "      <td>5</td>\n",
              "      <td>500</td>\n",
              "      <td>five</td>\n",
              "    </tr>\n",
              "    <tr>\n",
              "      <th>60</th>\n",
              "      <td>6</td>\n",
              "      <td>600</td>\n",
              "      <td>six</td>\n",
              "    </tr>\n",
              "  </tbody>\n",
              "</table>\n",
              "</div>"
            ]
          },
          "metadata": {},
          "execution_count": 29
        }
      ]
    },
    {
      "cell_type": "code",
      "source": [
        "dates = pd.date_range('20130101', periods=6)"
      ],
      "metadata": {
        "id": "u9szJX6eaMTg"
      },
      "execution_count": null,
      "outputs": []
    },
    {
      "cell_type": "code",
      "source": [
        "dates"
      ],
      "metadata": {
        "colab": {
          "base_uri": "https://localhost:8080/"
        },
        "id": "mnmzrHHCaMWo",
        "outputId": "8a2c73f6-1522-489d-a25a-16fe36618ef2"
      },
      "execution_count": null,
      "outputs": [
        {
          "output_type": "execute_result",
          "data": {
            "text/plain": [
              "DatetimeIndex(['2013-01-01', '2013-01-02', '2013-01-03', '2013-01-04',\n",
              "               '2013-01-05', '2013-01-06'],\n",
              "              dtype='datetime64[ns]', freq='D')"
            ]
          },
          "metadata": {},
          "execution_count": 31
        }
      ]
    },
    {
      "cell_type": "code",
      "source": [
        "pdf = pd.DataFrame(np.random.randn(6, 4), index=dates, columns=list('ABCD'))"
      ],
      "metadata": {
        "id": "GgcGmIPpaMZT"
      },
      "execution_count": null,
      "outputs": []
    },
    {
      "cell_type": "code",
      "source": [
        "pdf"
      ],
      "metadata": {
        "colab": {
          "base_uri": "https://localhost:8080/",
          "height": 237
        },
        "id": "-pvoYvLgab5L",
        "outputId": "a558de7d-066d-4382-e20f-50c8e39d6672"
      },
      "execution_count": null,
      "outputs": [
        {
          "output_type": "execute_result",
          "data": {
            "text/plain": [
              "                   A         B         C         D\n",
              "2013-01-01 -0.388365 -1.123547 -0.610669 -0.407573\n",
              "2013-01-02  0.837287 -2.091099 -0.543520 -0.612496\n",
              "2013-01-03 -0.216492 -0.375785  0.570668 -1.042901\n",
              "2013-01-04  0.457425 -0.260510 -1.061202 -0.654600\n",
              "2013-01-05  0.201654  2.874761  0.596922  1.190109\n",
              "2013-01-06  2.837447 -0.249437 -1.944373  0.441123"
            ],
            "text/html": [
              "\n",
              "  <div id=\"df-243e6131-4a9d-4512-8a69-e703cdac0416\" class=\"colab-df-container\">\n",
              "    <div>\n",
              "<style scoped>\n",
              "    .dataframe tbody tr th:only-of-type {\n",
              "        vertical-align: middle;\n",
              "    }\n",
              "\n",
              "    .dataframe tbody tr th {\n",
              "        vertical-align: top;\n",
              "    }\n",
              "\n",
              "    .dataframe thead th {\n",
              "        text-align: right;\n",
              "    }\n",
              "</style>\n",
              "<table border=\"1\" class=\"dataframe\">\n",
              "  <thead>\n",
              "    <tr style=\"text-align: right;\">\n",
              "      <th></th>\n",
              "      <th>A</th>\n",
              "      <th>B</th>\n",
              "      <th>C</th>\n",
              "      <th>D</th>\n",
              "    </tr>\n",
              "  </thead>\n",
              "  <tbody>\n",
              "    <tr>\n",
              "      <th>2013-01-01</th>\n",
              "      <td>-0.388365</td>\n",
              "      <td>-1.123547</td>\n",
              "      <td>-0.610669</td>\n",
              "      <td>-0.407573</td>\n",
              "    </tr>\n",
              "    <tr>\n",
              "      <th>2013-01-02</th>\n",
              "      <td>0.837287</td>\n",
              "      <td>-2.091099</td>\n",
              "      <td>-0.543520</td>\n",
              "      <td>-0.612496</td>\n",
              "    </tr>\n",
              "    <tr>\n",
              "      <th>2013-01-03</th>\n",
              "      <td>-0.216492</td>\n",
              "      <td>-0.375785</td>\n",
              "      <td>0.570668</td>\n",
              "      <td>-1.042901</td>\n",
              "    </tr>\n",
              "    <tr>\n",
              "      <th>2013-01-04</th>\n",
              "      <td>0.457425</td>\n",
              "      <td>-0.260510</td>\n",
              "      <td>-1.061202</td>\n",
              "      <td>-0.654600</td>\n",
              "    </tr>\n",
              "    <tr>\n",
              "      <th>2013-01-05</th>\n",
              "      <td>0.201654</td>\n",
              "      <td>2.874761</td>\n",
              "      <td>0.596922</td>\n",
              "      <td>1.190109</td>\n",
              "    </tr>\n",
              "    <tr>\n",
              "      <th>2013-01-06</th>\n",
              "      <td>2.837447</td>\n",
              "      <td>-0.249437</td>\n",
              "      <td>-1.944373</td>\n",
              "      <td>0.441123</td>\n",
              "    </tr>\n",
              "  </tbody>\n",
              "</table>\n",
              "</div>\n",
              "    <div class=\"colab-df-buttons\">\n",
              "\n",
              "  <div class=\"colab-df-container\">\n",
              "    <button class=\"colab-df-convert\" onclick=\"convertToInteractive('df-243e6131-4a9d-4512-8a69-e703cdac0416')\"\n",
              "            title=\"Convert this dataframe to an interactive table.\"\n",
              "            style=\"display:none;\">\n",
              "\n",
              "  <svg xmlns=\"http://www.w3.org/2000/svg\" height=\"24px\" viewBox=\"0 -960 960 960\">\n",
              "    <path d=\"M120-120v-720h720v720H120Zm60-500h600v-160H180v160Zm220 220h160v-160H400v160Zm0 220h160v-160H400v160ZM180-400h160v-160H180v160Zm440 0h160v-160H620v160ZM180-180h160v-160H180v160Zm440 0h160v-160H620v160Z\"/>\n",
              "  </svg>\n",
              "    </button>\n",
              "\n",
              "  <style>\n",
              "    .colab-df-container {\n",
              "      display:flex;\n",
              "      gap: 12px;\n",
              "    }\n",
              "\n",
              "    .colab-df-convert {\n",
              "      background-color: #E8F0FE;\n",
              "      border: none;\n",
              "      border-radius: 50%;\n",
              "      cursor: pointer;\n",
              "      display: none;\n",
              "      fill: #1967D2;\n",
              "      height: 32px;\n",
              "      padding: 0 0 0 0;\n",
              "      width: 32px;\n",
              "    }\n",
              "\n",
              "    .colab-df-convert:hover {\n",
              "      background-color: #E2EBFA;\n",
              "      box-shadow: 0px 1px 2px rgba(60, 64, 67, 0.3), 0px 1px 3px 1px rgba(60, 64, 67, 0.15);\n",
              "      fill: #174EA6;\n",
              "    }\n",
              "\n",
              "    .colab-df-buttons div {\n",
              "      margin-bottom: 4px;\n",
              "    }\n",
              "\n",
              "    [theme=dark] .colab-df-convert {\n",
              "      background-color: #3B4455;\n",
              "      fill: #D2E3FC;\n",
              "    }\n",
              "\n",
              "    [theme=dark] .colab-df-convert:hover {\n",
              "      background-color: #434B5C;\n",
              "      box-shadow: 0px 1px 3px 1px rgba(0, 0, 0, 0.15);\n",
              "      filter: drop-shadow(0px 1px 2px rgba(0, 0, 0, 0.3));\n",
              "      fill: #FFFFFF;\n",
              "    }\n",
              "  </style>\n",
              "\n",
              "    <script>\n",
              "      const buttonEl =\n",
              "        document.querySelector('#df-243e6131-4a9d-4512-8a69-e703cdac0416 button.colab-df-convert');\n",
              "      buttonEl.style.display =\n",
              "        google.colab.kernel.accessAllowed ? 'block' : 'none';\n",
              "\n",
              "      async function convertToInteractive(key) {\n",
              "        const element = document.querySelector('#df-243e6131-4a9d-4512-8a69-e703cdac0416');\n",
              "        const dataTable =\n",
              "          await google.colab.kernel.invokeFunction('convertToInteractive',\n",
              "                                                    [key], {});\n",
              "        if (!dataTable) return;\n",
              "\n",
              "        const docLinkHtml = 'Like what you see? Visit the ' +\n",
              "          '<a target=\"_blank\" href=https://colab.research.google.com/notebooks/data_table.ipynb>data table notebook</a>'\n",
              "          + ' to learn more about interactive tables.';\n",
              "        element.innerHTML = '';\n",
              "        dataTable['output_type'] = 'display_data';\n",
              "        await google.colab.output.renderOutput(dataTable, element);\n",
              "        const docLink = document.createElement('div');\n",
              "        docLink.innerHTML = docLinkHtml;\n",
              "        element.appendChild(docLink);\n",
              "      }\n",
              "    </script>\n",
              "  </div>\n",
              "\n",
              "\n",
              "<div id=\"df-eb8726d8-c0ca-4d40-bf88-ee63921b6871\">\n",
              "  <button class=\"colab-df-quickchart\" onclick=\"quickchart('df-eb8726d8-c0ca-4d40-bf88-ee63921b6871')\"\n",
              "            title=\"Suggest charts\"\n",
              "            style=\"display:none;\">\n",
              "\n",
              "<svg xmlns=\"http://www.w3.org/2000/svg\" height=\"24px\"viewBox=\"0 0 24 24\"\n",
              "     width=\"24px\">\n",
              "    <g>\n",
              "        <path d=\"M19 3H5c-1.1 0-2 .9-2 2v14c0 1.1.9 2 2 2h14c1.1 0 2-.9 2-2V5c0-1.1-.9-2-2-2zM9 17H7v-7h2v7zm4 0h-2V7h2v10zm4 0h-2v-4h2v4z\"/>\n",
              "    </g>\n",
              "</svg>\n",
              "  </button>\n",
              "\n",
              "<style>\n",
              "  .colab-df-quickchart {\n",
              "      --bg-color: #E8F0FE;\n",
              "      --fill-color: #1967D2;\n",
              "      --hover-bg-color: #E2EBFA;\n",
              "      --hover-fill-color: #174EA6;\n",
              "      --disabled-fill-color: #AAA;\n",
              "      --disabled-bg-color: #DDD;\n",
              "  }\n",
              "\n",
              "  [theme=dark] .colab-df-quickchart {\n",
              "      --bg-color: #3B4455;\n",
              "      --fill-color: #D2E3FC;\n",
              "      --hover-bg-color: #434B5C;\n",
              "      --hover-fill-color: #FFFFFF;\n",
              "      --disabled-bg-color: #3B4455;\n",
              "      --disabled-fill-color: #666;\n",
              "  }\n",
              "\n",
              "  .colab-df-quickchart {\n",
              "    background-color: var(--bg-color);\n",
              "    border: none;\n",
              "    border-radius: 50%;\n",
              "    cursor: pointer;\n",
              "    display: none;\n",
              "    fill: var(--fill-color);\n",
              "    height: 32px;\n",
              "    padding: 0;\n",
              "    width: 32px;\n",
              "  }\n",
              "\n",
              "  .colab-df-quickchart:hover {\n",
              "    background-color: var(--hover-bg-color);\n",
              "    box-shadow: 0 1px 2px rgba(60, 64, 67, 0.3), 0 1px 3px 1px rgba(60, 64, 67, 0.15);\n",
              "    fill: var(--button-hover-fill-color);\n",
              "  }\n",
              "\n",
              "  .colab-df-quickchart-complete:disabled,\n",
              "  .colab-df-quickchart-complete:disabled:hover {\n",
              "    background-color: var(--disabled-bg-color);\n",
              "    fill: var(--disabled-fill-color);\n",
              "    box-shadow: none;\n",
              "  }\n",
              "\n",
              "  .colab-df-spinner {\n",
              "    border: 2px solid var(--fill-color);\n",
              "    border-color: transparent;\n",
              "    border-bottom-color: var(--fill-color);\n",
              "    animation:\n",
              "      spin 1s steps(1) infinite;\n",
              "  }\n",
              "\n",
              "  @keyframes spin {\n",
              "    0% {\n",
              "      border-color: transparent;\n",
              "      border-bottom-color: var(--fill-color);\n",
              "      border-left-color: var(--fill-color);\n",
              "    }\n",
              "    20% {\n",
              "      border-color: transparent;\n",
              "      border-left-color: var(--fill-color);\n",
              "      border-top-color: var(--fill-color);\n",
              "    }\n",
              "    30% {\n",
              "      border-color: transparent;\n",
              "      border-left-color: var(--fill-color);\n",
              "      border-top-color: var(--fill-color);\n",
              "      border-right-color: var(--fill-color);\n",
              "    }\n",
              "    40% {\n",
              "      border-color: transparent;\n",
              "      border-right-color: var(--fill-color);\n",
              "      border-top-color: var(--fill-color);\n",
              "    }\n",
              "    60% {\n",
              "      border-color: transparent;\n",
              "      border-right-color: var(--fill-color);\n",
              "    }\n",
              "    80% {\n",
              "      border-color: transparent;\n",
              "      border-right-color: var(--fill-color);\n",
              "      border-bottom-color: var(--fill-color);\n",
              "    }\n",
              "    90% {\n",
              "      border-color: transparent;\n",
              "      border-bottom-color: var(--fill-color);\n",
              "    }\n",
              "  }\n",
              "</style>\n",
              "\n",
              "  <script>\n",
              "    async function quickchart(key) {\n",
              "      const quickchartButtonEl =\n",
              "        document.querySelector('#' + key + ' button');\n",
              "      quickchartButtonEl.disabled = true;  // To prevent multiple clicks.\n",
              "      quickchartButtonEl.classList.add('colab-df-spinner');\n",
              "      try {\n",
              "        const charts = await google.colab.kernel.invokeFunction(\n",
              "            'suggestCharts', [key], {});\n",
              "      } catch (error) {\n",
              "        console.error('Error during call to suggestCharts:', error);\n",
              "      }\n",
              "      quickchartButtonEl.classList.remove('colab-df-spinner');\n",
              "      quickchartButtonEl.classList.add('colab-df-quickchart-complete');\n",
              "    }\n",
              "    (() => {\n",
              "      let quickchartButtonEl =\n",
              "        document.querySelector('#df-eb8726d8-c0ca-4d40-bf88-ee63921b6871 button');\n",
              "      quickchartButtonEl.style.display =\n",
              "        google.colab.kernel.accessAllowed ? 'block' : 'none';\n",
              "    })();\n",
              "  </script>\n",
              "</div>\n",
              "    </div>\n",
              "  </div>\n"
            ],
            "application/vnd.google.colaboratory.intrinsic+json": {
              "type": "dataframe",
              "variable_name": "pdf",
              "summary": "{\n  \"name\": \"pdf\",\n  \"rows\": 6,\n  \"fields\": [\n    {\n      \"column\": \"A\",\n      \"properties\": {\n        \"dtype\": \"number\",\n        \"std\": 1.1732204983358454,\n        \"min\": -0.3883648823059467,\n        \"max\": 2.8374466441215604,\n        \"num_unique_values\": 6,\n        \"samples\": [\n          -0.3883648823059467,\n          0.8372865889294201,\n          2.8374466441215604\n        ],\n        \"semantic_type\": \"\",\n        \"description\": \"\"\n      }\n    },\n    {\n      \"column\": \"B\",\n      \"properties\": {\n        \"dtype\": \"number\",\n        \"std\": 1.6685470714501947,\n        \"min\": -2.09109918896786,\n        \"max\": 2.87476104219674,\n        \"num_unique_values\": 6,\n        \"samples\": [\n          -1.123546652378582,\n          -2.09109918896786,\n          -0.24943665048222652\n        ],\n        \"semantic_type\": \"\",\n        \"description\": \"\"\n      }\n    },\n    {\n      \"column\": \"C\",\n      \"properties\": {\n        \"dtype\": \"number\",\n        \"std\": 0.9762029752122481,\n        \"min\": -1.944373025235914,\n        \"max\": 0.596922059947697,\n        \"num_unique_values\": 6,\n        \"samples\": [\n          -0.6106687613863858,\n          -0.54352044115218,\n          -1.944373025235914\n        ],\n        \"semantic_type\": \"\",\n        \"description\": \"\"\n      }\n    },\n    {\n      \"column\": \"D\",\n      \"properties\": {\n        \"dtype\": \"number\",\n        \"std\": 0.8332675438595262,\n        \"min\": -1.042901462549922,\n        \"max\": 1.190109491214193,\n        \"num_unique_values\": 6,\n        \"samples\": [\n          -0.40757334166737963,\n          -0.6124960276500431,\n          0.44112325611377906\n        ],\n        \"semantic_type\": \"\",\n        \"description\": \"\"\n      }\n    }\n  ]\n}"
            }
          },
          "metadata": {},
          "execution_count": 33
        }
      ]
    },
    {
      "cell_type": "code",
      "source": [
        "psdf = ps.from_pandas(pdf)"
      ],
      "metadata": {
        "id": "ZsmDsxu0ab75"
      },
      "execution_count": null,
      "outputs": []
    },
    {
      "cell_type": "code",
      "source": [
        "type(psdf)"
      ],
      "metadata": {
        "colab": {
          "base_uri": "https://localhost:8080/",
          "height": 186
        },
        "id": "GCua0PxIab-2",
        "outputId": "4e9361d8-fce2-4cd9-9eb0-7893f6e725a8"
      },
      "execution_count": null,
      "outputs": [
        {
          "output_type": "execute_result",
          "data": {
            "text/plain": [
              "pyspark.pandas.frame.DataFrame"
            ],
            "text/html": [
              "<div style=\"max-width:800px; border: 1px solid var(--colab-border-color);\"><style>\n",
              "      pre.function-repr-contents {\n",
              "        overflow-x: auto;\n",
              "        padding: 8px 12px;\n",
              "        max-height: 500px;\n",
              "      }\n",
              "\n",
              "      pre.function-repr-contents.function-repr-contents-collapsed {\n",
              "        cursor: pointer;\n",
              "        max-height: 100px;\n",
              "      }\n",
              "    </style>\n",
              "    <pre style=\"white-space: initial; background:\n",
              "         var(--colab-secondary-surface-color); padding: 8px 12px;\n",
              "         border-bottom: 1px solid var(--colab-border-color);\"><b>pyspark.pandas.frame.DataFrame</b><br/>def __init__(data=None, index=None, columns=None, dtype=None, copy=False)</pre><pre class=\"function-repr-contents function-repr-contents-collapsed\" style=\"\"><a class=\"filepath\" style=\"display:none\" href=\"#\">/usr/local/lib/python3.10/dist-packages/pyspark/pandas/frame.py</a>pandas-on-Spark DataFrame that corresponds to pandas DataFrame logically. This holds Spark\n",
              "DataFrame internally.\n",
              "\n",
              ":ivar _internal: an internal immutable Frame to manage metadata.\n",
              ":type _internal: InternalFrame\n",
              "\n",
              "Parameters\n",
              "----------\n",
              "data : numpy ndarray (structured or homogeneous), dict, pandas DataFrame,\n",
              "    Spark DataFrame, pandas-on-Spark DataFrame or pandas-on-Spark Series.\n",
              "    Dict can contain Series, arrays, constants, or list-like objects\n",
              "index : Index or array-like\n",
              "    Index to use for the resulting frame. Will default to RangeIndex if\n",
              "    no indexing information part of input data and no index provided\n",
              "columns : Index or array-like\n",
              "    Column labels to use for the resulting frame. Will default to\n",
              "    RangeIndex (0, 1, 2, ..., n) if no column labels are provided\n",
              "dtype : dtype, default None\n",
              "    Data type to force. Only a single dtype is allowed. If None, infer\n",
              "copy : boolean, default False\n",
              "    Copy data from inputs. Only affects DataFrame / 2d ndarray input\n",
              "\n",
              ".. versionchanged:: 3.4.0\n",
              "    Since 3.4.0, it deals with `data` and `index` in this approach:\n",
              "    1, when `data` is a distributed dataset (Internal DataFrame/Spark DataFrame/\n",
              "    pandas-on-Spark DataFrame/pandas-on-Spark Series), it will first parallelize\n",
              "    the `index` if necessary, and then try to combine the `data` and `index`;\n",
              "    Note that if `data` and `index` doesn&#x27;t have the same anchor, then\n",
              "    `compute.ops_on_diff_frames` should be turned on;\n",
              "    2, when `data` is a local dataset (Pandas DataFrame/numpy ndarray/list/etc),\n",
              "    it will first collect the `index` to driver if necessary, and then apply\n",
              "    the `pandas.DataFrame(...)` creation internally;\n",
              "\n",
              "Examples\n",
              "--------\n",
              "Constructing DataFrame from a dictionary.\n",
              "\n",
              "&gt;&gt;&gt; d = {&#x27;col1&#x27;: [1, 2], &#x27;col2&#x27;: [3, 4]}\n",
              "&gt;&gt;&gt; df = ps.DataFrame(data=d, columns=[&#x27;col1&#x27;, &#x27;col2&#x27;])\n",
              "&gt;&gt;&gt; df\n",
              "   col1  col2\n",
              "0     1     3\n",
              "1     2     4\n",
              "\n",
              "Constructing DataFrame from pandas DataFrame\n",
              "\n",
              "&gt;&gt;&gt; df = ps.DataFrame(pd.DataFrame(data=d, columns=[&#x27;col1&#x27;, &#x27;col2&#x27;]))\n",
              "&gt;&gt;&gt; df\n",
              "   col1  col2\n",
              "0     1     3\n",
              "1     2     4\n",
              "\n",
              "Notice that the inferred dtype is int64.\n",
              "\n",
              "&gt;&gt;&gt; df.dtypes\n",
              "col1    int64\n",
              "col2    int64\n",
              "dtype: object\n",
              "\n",
              "To enforce a single dtype:\n",
              "\n",
              "&gt;&gt;&gt; df = ps.DataFrame(data=d, dtype=np.int8)\n",
              "&gt;&gt;&gt; df.dtypes\n",
              "col1    int8\n",
              "col2    int8\n",
              "dtype: object\n",
              "\n",
              "Constructing DataFrame from numpy ndarray:\n",
              "\n",
              "&gt;&gt;&gt; import numpy as np\n",
              "&gt;&gt;&gt; ps.DataFrame(data=np.array([[1, 2, 3, 4, 5], [6, 7, 8, 9, 0]]),\n",
              "...     columns=[&#x27;a&#x27;, &#x27;b&#x27;, &#x27;c&#x27;, &#x27;d&#x27;, &#x27;e&#x27;])\n",
              "   a  b  c  d  e\n",
              "0  1  2  3  4  5\n",
              "1  6  7  8  9  0\n",
              "\n",
              "Constructing DataFrame from numpy ndarray with Pandas index:\n",
              "\n",
              "&gt;&gt;&gt; import numpy as np\n",
              "&gt;&gt;&gt; import pandas as pd\n",
              "\n",
              "&gt;&gt;&gt; ps.DataFrame(data=np.array([[1, 2, 3, 4, 5], [6, 7, 8, 9, 0]]),\n",
              "...     index=pd.Index([1, 4]), columns=[&#x27;a&#x27;, &#x27;b&#x27;, &#x27;c&#x27;, &#x27;d&#x27;, &#x27;e&#x27;])\n",
              "   a  b  c  d  e\n",
              "1  1  2  3  4  5\n",
              "4  6  7  8  9  0\n",
              "\n",
              "Constructing DataFrame from numpy ndarray with pandas-on-Spark index:\n",
              "\n",
              "&gt;&gt;&gt; import numpy as np\n",
              "&gt;&gt;&gt; import pandas as pd\n",
              "&gt;&gt;&gt; ps.DataFrame(data=np.array([[1, 2, 3, 4, 5], [6, 7, 8, 9, 0]]),\n",
              "...     index=ps.Index([1, 4]), columns=[&#x27;a&#x27;, &#x27;b&#x27;, &#x27;c&#x27;, &#x27;d&#x27;, &#x27;e&#x27;])\n",
              "   a  b  c  d  e\n",
              "1  1  2  3  4  5\n",
              "4  6  7  8  9  0\n",
              "\n",
              "Constructing DataFrame from Pandas DataFrame with Pandas index:\n",
              "\n",
              "&gt;&gt;&gt; import numpy as np\n",
              "&gt;&gt;&gt; import pandas as pd\n",
              "&gt;&gt;&gt; pdf = pd.DataFrame(data=np.array([[1, 2, 3, 4, 5], [6, 7, 8, 9, 0]]),\n",
              "...     columns=[&#x27;a&#x27;, &#x27;b&#x27;, &#x27;c&#x27;, &#x27;d&#x27;, &#x27;e&#x27;])\n",
              "&gt;&gt;&gt; ps.DataFrame(data=pdf, index=pd.Index([1, 4]))\n",
              "     a    b    c    d    e\n",
              "1  6.0  7.0  8.0  9.0  0.0\n",
              "4  NaN  NaN  NaN  NaN  NaN\n",
              "\n",
              "Constructing DataFrame from Pandas DataFrame with pandas-on-Spark index:\n",
              "\n",
              "&gt;&gt;&gt; import numpy as np\n",
              "&gt;&gt;&gt; import pandas as pd\n",
              "&gt;&gt;&gt; pdf = pd.DataFrame(data=np.array([[1, 2, 3, 4, 5], [6, 7, 8, 9, 0]]),\n",
              "...     columns=[&#x27;a&#x27;, &#x27;b&#x27;, &#x27;c&#x27;, &#x27;d&#x27;, &#x27;e&#x27;])\n",
              "&gt;&gt;&gt; ps.DataFrame(data=pdf, index=ps.Index([1, 4]))\n",
              "     a    b    c    d    e\n",
              "1  6.0  7.0  8.0  9.0  0.0\n",
              "4  NaN  NaN  NaN  NaN  NaN\n",
              "\n",
              "Constructing DataFrame from Spark DataFrame with Pandas index:\n",
              "\n",
              "&gt;&gt;&gt; import pandas as pd\n",
              "&gt;&gt;&gt; sdf = spark.createDataFrame([(&quot;Data&quot;, 1), (&quot;Bricks&quot;, 2)], [&quot;x&quot;, &quot;y&quot;])\n",
              "&gt;&gt;&gt; ps.DataFrame(data=sdf, index=pd.Index([0, 1, 2]))\n",
              "Traceback (most recent call last):\n",
              "  ...\n",
              "ValueError: Cannot combine the series or dataframe...&#x27;compute.ops_on_diff_frames&#x27; option.\n",
              "\n",
              "Enable &#x27;compute.ops_on_diff_frames&#x27; to combine SparkDataFrame and Pandas index\n",
              "\n",
              "&gt;&gt;&gt; with ps.option_context(&quot;compute.ops_on_diff_frames&quot;, True):\n",
              "...     ps.DataFrame(data=sdf, index=pd.Index([0, 1, 2]))\n",
              "        x    y\n",
              "0    Data  1.0\n",
              "1  Bricks  2.0\n",
              "2    None  NaN\n",
              "\n",
              "Constructing DataFrame from Spark DataFrame with pandas-on-Spark index:\n",
              "\n",
              "&gt;&gt;&gt; import pandas as pd\n",
              "&gt;&gt;&gt; sdf = spark.createDataFrame([(&quot;Data&quot;, 1), (&quot;Bricks&quot;, 2)], [&quot;x&quot;, &quot;y&quot;])\n",
              "&gt;&gt;&gt; ps.DataFrame(data=sdf, index=ps.Index([0, 1, 2]))\n",
              "Traceback (most recent call last):\n",
              "  ...\n",
              "ValueError: Cannot combine the series or dataframe...&#x27;compute.ops_on_diff_frames&#x27; option.\n",
              "\n",
              "Enable &#x27;compute.ops_on_diff_frames&#x27; to combine Spark DataFrame and pandas-on-Spark index\n",
              "\n",
              "&gt;&gt;&gt; with ps.option_context(&quot;compute.ops_on_diff_frames&quot;, True):\n",
              "...     ps.DataFrame(data=sdf, index=ps.Index([0, 1, 2]))\n",
              "        x    y\n",
              "0    Data  1.0\n",
              "1  Bricks  2.0\n",
              "2    None  NaN</pre>\n",
              "      <script>\n",
              "      if (google.colab.kernel.accessAllowed && google.colab.files && google.colab.files.view) {\n",
              "        for (const element of document.querySelectorAll('.filepath')) {\n",
              "          element.style.display = 'block'\n",
              "          element.onclick = (event) => {\n",
              "            event.preventDefault();\n",
              "            event.stopPropagation();\n",
              "            google.colab.files.view(element.textContent, 369);\n",
              "          };\n",
              "        }\n",
              "      }\n",
              "      for (const element of document.querySelectorAll('.function-repr-contents')) {\n",
              "        element.onclick = (event) => {\n",
              "          event.preventDefault();\n",
              "          event.stopPropagation();\n",
              "          element.classList.toggle('function-repr-contents-collapsed');\n",
              "        };\n",
              "      }\n",
              "      </script>\n",
              "      </div>"
            ]
          },
          "metadata": {},
          "execution_count": 35
        }
      ]
    },
    {
      "cell_type": "code",
      "source": [
        "psdf"
      ],
      "metadata": {
        "colab": {
          "base_uri": "https://localhost:8080/",
          "height": 237
        },
        "id": "cBpt6yDWacBb",
        "outputId": "c2513158-86b3-4330-d2b4-8397fcebc082"
      },
      "execution_count": null,
      "outputs": [
        {
          "output_type": "execute_result",
          "data": {
            "text/plain": [
              "                   A         B         C         D\n",
              "2013-01-01 -0.388365 -1.123547 -0.610669 -0.407573\n",
              "2013-01-02  0.837287 -2.091099 -0.543520 -0.612496\n",
              "2013-01-03 -0.216492 -0.375785  0.570668 -1.042901\n",
              "2013-01-04  0.457425 -0.260510 -1.061202 -0.654600\n",
              "2013-01-05  0.201654  2.874761  0.596922  1.190109\n",
              "2013-01-06  2.837447 -0.249437 -1.944373  0.441123"
            ],
            "text/html": [
              "<div>\n",
              "<style scoped>\n",
              "    .dataframe tbody tr th:only-of-type {\n",
              "        vertical-align: middle;\n",
              "    }\n",
              "\n",
              "    .dataframe tbody tr th {\n",
              "        vertical-align: top;\n",
              "    }\n",
              "\n",
              "    .dataframe thead th {\n",
              "        text-align: right;\n",
              "    }\n",
              "</style>\n",
              "<table border=\"1\" class=\"dataframe\">\n",
              "  <thead>\n",
              "    <tr style=\"text-align: right;\">\n",
              "      <th></th>\n",
              "      <th>A</th>\n",
              "      <th>B</th>\n",
              "      <th>C</th>\n",
              "      <th>D</th>\n",
              "    </tr>\n",
              "  </thead>\n",
              "  <tbody>\n",
              "    <tr>\n",
              "      <th>2013-01-01</th>\n",
              "      <td>-0.388365</td>\n",
              "      <td>-1.123547</td>\n",
              "      <td>-0.610669</td>\n",
              "      <td>-0.407573</td>\n",
              "    </tr>\n",
              "    <tr>\n",
              "      <th>2013-01-02</th>\n",
              "      <td>0.837287</td>\n",
              "      <td>-2.091099</td>\n",
              "      <td>-0.543520</td>\n",
              "      <td>-0.612496</td>\n",
              "    </tr>\n",
              "    <tr>\n",
              "      <th>2013-01-03</th>\n",
              "      <td>-0.216492</td>\n",
              "      <td>-0.375785</td>\n",
              "      <td>0.570668</td>\n",
              "      <td>-1.042901</td>\n",
              "    </tr>\n",
              "    <tr>\n",
              "      <th>2013-01-04</th>\n",
              "      <td>0.457425</td>\n",
              "      <td>-0.260510</td>\n",
              "      <td>-1.061202</td>\n",
              "      <td>-0.654600</td>\n",
              "    </tr>\n",
              "    <tr>\n",
              "      <th>2013-01-05</th>\n",
              "      <td>0.201654</td>\n",
              "      <td>2.874761</td>\n",
              "      <td>0.596922</td>\n",
              "      <td>1.190109</td>\n",
              "    </tr>\n",
              "    <tr>\n",
              "      <th>2013-01-06</th>\n",
              "      <td>2.837447</td>\n",
              "      <td>-0.249437</td>\n",
              "      <td>-1.944373</td>\n",
              "      <td>0.441123</td>\n",
              "    </tr>\n",
              "  </tbody>\n",
              "</table>\n",
              "</div>"
            ]
          },
          "metadata": {},
          "execution_count": 36
        }
      ]
    },
    {
      "cell_type": "code",
      "source": [],
      "metadata": {
        "id": "fFs95iTkacET"
      },
      "execution_count": null,
      "outputs": []
    },
    {
      "cell_type": "code",
      "source": [
        "spark = SparkSession.builder.getOrCreate()"
      ],
      "metadata": {
        "id": "vz6Lyc7tacHT"
      },
      "execution_count": null,
      "outputs": []
    },
    {
      "cell_type": "code",
      "source": [
        "sdf = spark.createDataFrame(pdf)"
      ],
      "metadata": {
        "id": "u8XBQzqza4ch"
      },
      "execution_count": null,
      "outputs": []
    },
    {
      "cell_type": "code",
      "source": [
        "sdf.show()"
      ],
      "metadata": {
        "colab": {
          "base_uri": "https://localhost:8080/"
        },
        "id": "pXBJ83o2a4f1",
        "outputId": "316784e9-80a5-4ccb-9b32-8a114576ac3d"
      },
      "execution_count": null,
      "outputs": [
        {
          "output_type": "stream",
          "name": "stdout",
          "text": [
            "+--------------------+--------------------+-------------------+--------------------+\n",
            "|                   A|                   B|                  C|                   D|\n",
            "+--------------------+--------------------+-------------------+--------------------+\n",
            "| -0.3883648823059467|  -1.123546652378582|-0.6106687613863858|-0.40757334166737963|\n",
            "|  0.8372865889294201|   -2.09109918896786|  -0.54352044115218| -0.6124960276500431|\n",
            "|-0.21649168925179124| -0.3757853894078164| 0.5706684381723268|  -1.042901462549922|\n",
            "| 0.45742475360608403|-0.26051039781376023|-1.0612018382310175| -0.6546000447958591|\n",
            "| 0.20165423177026665|    2.87476104219674|  0.596922059947697|   1.190109491214193|\n",
            "|  2.8374466441215604|-0.24943665048222652| -1.944373025235914| 0.44112325611377906|\n",
            "+--------------------+--------------------+-------------------+--------------------+\n",
            "\n"
          ]
        }
      ]
    },
    {
      "cell_type": "code",
      "source": [
        "psdf = sdf.pandas_api()"
      ],
      "metadata": {
        "id": "H60JGTNTa4jF"
      },
      "execution_count": null,
      "outputs": []
    },
    {
      "cell_type": "code",
      "source": [
        "psdf"
      ],
      "metadata": {
        "colab": {
          "base_uri": "https://localhost:8080/",
          "height": 237
        },
        "id": "wKSVTgrZa4lz",
        "outputId": "a4c085e5-d402-4476-ed1c-de594f4dc168"
      },
      "execution_count": null,
      "outputs": [
        {
          "output_type": "execute_result",
          "data": {
            "text/plain": [
              "          A         B         C         D\n",
              "0 -0.388365 -1.123547 -0.610669 -0.407573\n",
              "1  0.837287 -2.091099 -0.543520 -0.612496\n",
              "2 -0.216492 -0.375785  0.570668 -1.042901\n",
              "3  0.457425 -0.260510 -1.061202 -0.654600\n",
              "4  0.201654  2.874761  0.596922  1.190109\n",
              "5  2.837447 -0.249437 -1.944373  0.441123"
            ],
            "text/html": [
              "<div>\n",
              "<style scoped>\n",
              "    .dataframe tbody tr th:only-of-type {\n",
              "        vertical-align: middle;\n",
              "    }\n",
              "\n",
              "    .dataframe tbody tr th {\n",
              "        vertical-align: top;\n",
              "    }\n",
              "\n",
              "    .dataframe thead th {\n",
              "        text-align: right;\n",
              "    }\n",
              "</style>\n",
              "<table border=\"1\" class=\"dataframe\">\n",
              "  <thead>\n",
              "    <tr style=\"text-align: right;\">\n",
              "      <th></th>\n",
              "      <th>A</th>\n",
              "      <th>B</th>\n",
              "      <th>C</th>\n",
              "      <th>D</th>\n",
              "    </tr>\n",
              "  </thead>\n",
              "  <tbody>\n",
              "    <tr>\n",
              "      <th>0</th>\n",
              "      <td>-0.388365</td>\n",
              "      <td>-1.123547</td>\n",
              "      <td>-0.610669</td>\n",
              "      <td>-0.407573</td>\n",
              "    </tr>\n",
              "    <tr>\n",
              "      <th>1</th>\n",
              "      <td>0.837287</td>\n",
              "      <td>-2.091099</td>\n",
              "      <td>-0.543520</td>\n",
              "      <td>-0.612496</td>\n",
              "    </tr>\n",
              "    <tr>\n",
              "      <th>2</th>\n",
              "      <td>-0.216492</td>\n",
              "      <td>-0.375785</td>\n",
              "      <td>0.570668</td>\n",
              "      <td>-1.042901</td>\n",
              "    </tr>\n",
              "    <tr>\n",
              "      <th>3</th>\n",
              "      <td>0.457425</td>\n",
              "      <td>-0.260510</td>\n",
              "      <td>-1.061202</td>\n",
              "      <td>-0.654600</td>\n",
              "    </tr>\n",
              "    <tr>\n",
              "      <th>4</th>\n",
              "      <td>0.201654</td>\n",
              "      <td>2.874761</td>\n",
              "      <td>0.596922</td>\n",
              "      <td>1.190109</td>\n",
              "    </tr>\n",
              "    <tr>\n",
              "      <th>5</th>\n",
              "      <td>2.837447</td>\n",
              "      <td>-0.249437</td>\n",
              "      <td>-1.944373</td>\n",
              "      <td>0.441123</td>\n",
              "    </tr>\n",
              "  </tbody>\n",
              "</table>\n",
              "</div>"
            ]
          },
          "metadata": {},
          "execution_count": 41
        }
      ]
    },
    {
      "cell_type": "code",
      "source": [
        "psdf.dtypes"
      ],
      "metadata": {
        "colab": {
          "base_uri": "https://localhost:8080/"
        },
        "id": "n2NondaNa4or",
        "outputId": "3e19949a-762d-4da6-f617-fb596827a7f0"
      },
      "execution_count": null,
      "outputs": [
        {
          "output_type": "execute_result",
          "data": {
            "text/plain": [
              "A    float64\n",
              "B    float64\n",
              "C    float64\n",
              "D    float64\n",
              "dtype: object"
            ]
          },
          "metadata": {},
          "execution_count": 42
        }
      ]
    },
    {
      "cell_type": "code",
      "source": [
        "psdf.head()"
      ],
      "metadata": {
        "colab": {
          "base_uri": "https://localhost:8080/",
          "height": 206
        },
        "id": "t4aNHb_jcZ_H",
        "outputId": "6ec6f7b1-0355-4383-ade7-1cd7584e71cd"
      },
      "execution_count": null,
      "outputs": [
        {
          "output_type": "execute_result",
          "data": {
            "text/plain": [
              "          A         B         C         D\n",
              "0 -0.388365 -1.123547 -0.610669 -0.407573\n",
              "1  0.837287 -2.091099 -0.543520 -0.612496\n",
              "2 -0.216492 -0.375785  0.570668 -1.042901\n",
              "3  0.457425 -0.260510 -1.061202 -0.654600\n",
              "4  0.201654  2.874761  0.596922  1.190109"
            ],
            "text/html": [
              "<div>\n",
              "<style scoped>\n",
              "    .dataframe tbody tr th:only-of-type {\n",
              "        vertical-align: middle;\n",
              "    }\n",
              "\n",
              "    .dataframe tbody tr th {\n",
              "        vertical-align: top;\n",
              "    }\n",
              "\n",
              "    .dataframe thead th {\n",
              "        text-align: right;\n",
              "    }\n",
              "</style>\n",
              "<table border=\"1\" class=\"dataframe\">\n",
              "  <thead>\n",
              "    <tr style=\"text-align: right;\">\n",
              "      <th></th>\n",
              "      <th>A</th>\n",
              "      <th>B</th>\n",
              "      <th>C</th>\n",
              "      <th>D</th>\n",
              "    </tr>\n",
              "  </thead>\n",
              "  <tbody>\n",
              "    <tr>\n",
              "      <th>0</th>\n",
              "      <td>-0.388365</td>\n",
              "      <td>-1.123547</td>\n",
              "      <td>-0.610669</td>\n",
              "      <td>-0.407573</td>\n",
              "    </tr>\n",
              "    <tr>\n",
              "      <th>1</th>\n",
              "      <td>0.837287</td>\n",
              "      <td>-2.091099</td>\n",
              "      <td>-0.543520</td>\n",
              "      <td>-0.612496</td>\n",
              "    </tr>\n",
              "    <tr>\n",
              "      <th>2</th>\n",
              "      <td>-0.216492</td>\n",
              "      <td>-0.375785</td>\n",
              "      <td>0.570668</td>\n",
              "      <td>-1.042901</td>\n",
              "    </tr>\n",
              "    <tr>\n",
              "      <th>3</th>\n",
              "      <td>0.457425</td>\n",
              "      <td>-0.260510</td>\n",
              "      <td>-1.061202</td>\n",
              "      <td>-0.654600</td>\n",
              "    </tr>\n",
              "    <tr>\n",
              "      <th>4</th>\n",
              "      <td>0.201654</td>\n",
              "      <td>2.874761</td>\n",
              "      <td>0.596922</td>\n",
              "      <td>1.190109</td>\n",
              "    </tr>\n",
              "  </tbody>\n",
              "</table>\n",
              "</div>"
            ]
          },
          "metadata": {},
          "execution_count": 43
        }
      ]
    },
    {
      "cell_type": "code",
      "source": [
        "psdf.index"
      ],
      "metadata": {
        "colab": {
          "base_uri": "https://localhost:8080/"
        },
        "id": "lvJu0cY2caBt",
        "outputId": "efa7b162-df10-426b-9d9a-c319176d344f"
      },
      "execution_count": null,
      "outputs": [
        {
          "output_type": "execute_result",
          "data": {
            "text/plain": [
              "Int64Index([0, 1, 2, 3, 4, 5], dtype='int64')"
            ]
          },
          "metadata": {},
          "execution_count": 44
        }
      ]
    },
    {
      "cell_type": "code",
      "source": [
        "psdf.columns"
      ],
      "metadata": {
        "colab": {
          "base_uri": "https://localhost:8080/"
        },
        "id": "Hcot9fLGcaEd",
        "outputId": "53e1ecbc-913d-43b9-9449-1ac5e894977f"
      },
      "execution_count": null,
      "outputs": [
        {
          "output_type": "execute_result",
          "data": {
            "text/plain": [
              "Index(['A', 'B', 'C', 'D'], dtype='object')"
            ]
          },
          "metadata": {},
          "execution_count": 45
        }
      ]
    },
    {
      "cell_type": "code",
      "source": [
        "psdf.to_numpy()"
      ],
      "metadata": {
        "colab": {
          "base_uri": "https://localhost:8080/"
        },
        "id": "xm-oq7jhcmeu",
        "outputId": "20f46c83-e2f4-4606-dd4c-895e5d3336b6"
      },
      "execution_count": null,
      "outputs": [
        {
          "output_type": "stream",
          "name": "stderr",
          "text": [
            "/usr/local/lib/python3.10/dist-packages/pyspark/pandas/utils.py:1016: PandasAPIOnSparkAdviceWarning: `to_numpy` loads all data into the driver's memory. It should only be used if the resulting NumPy ndarray is expected to be small.\n",
            "  warnings.warn(message, PandasAPIOnSparkAdviceWarning)\n"
          ]
        },
        {
          "output_type": "execute_result",
          "data": {
            "text/plain": [
              "array([[-0.38836488, -1.12354665, -0.61066876, -0.40757334],\n",
              "       [ 0.83728659, -2.09109919, -0.54352044, -0.61249603],\n",
              "       [-0.21649169, -0.37578539,  0.57066844, -1.04290146],\n",
              "       [ 0.45742475, -0.2605104 , -1.06120184, -0.65460004],\n",
              "       [ 0.20165423,  2.87476104,  0.59692206,  1.19010949],\n",
              "       [ 2.83744664, -0.24943665, -1.94437303,  0.44112326]])"
            ]
          },
          "metadata": {},
          "execution_count": 46
        }
      ]
    },
    {
      "cell_type": "code",
      "source": [
        "psdf.describe()"
      ],
      "metadata": {
        "colab": {
          "base_uri": "https://localhost:8080/",
          "height": 300
        },
        "id": "QfdsLPSocmhW",
        "outputId": "629ce4e9-2b61-45d4-8adc-f7fd062d78ec"
      },
      "execution_count": null,
      "outputs": [
        {
          "output_type": "execute_result",
          "data": {
            "text/plain": [
              "              A         B         C         D\n",
              "count  6.000000  6.000000  6.000000  6.000000\n",
              "mean   0.621493 -0.204270 -0.498696 -0.181056\n",
              "std    1.173220  1.668547  0.976203  0.833268\n",
              "min   -0.388365 -2.091099 -1.944373 -1.042901\n",
              "25%   -0.216492 -1.123547 -1.061202 -0.654600\n",
              "50%    0.201654 -0.375785 -0.610669 -0.612496\n",
              "75%    0.837287 -0.249437  0.570668  0.441123\n",
              "max    2.837447  2.874761  0.596922  1.190109"
            ],
            "text/html": [
              "<div>\n",
              "<style scoped>\n",
              "    .dataframe tbody tr th:only-of-type {\n",
              "        vertical-align: middle;\n",
              "    }\n",
              "\n",
              "    .dataframe tbody tr th {\n",
              "        vertical-align: top;\n",
              "    }\n",
              "\n",
              "    .dataframe thead th {\n",
              "        text-align: right;\n",
              "    }\n",
              "</style>\n",
              "<table border=\"1\" class=\"dataframe\">\n",
              "  <thead>\n",
              "    <tr style=\"text-align: right;\">\n",
              "      <th></th>\n",
              "      <th>A</th>\n",
              "      <th>B</th>\n",
              "      <th>C</th>\n",
              "      <th>D</th>\n",
              "    </tr>\n",
              "  </thead>\n",
              "  <tbody>\n",
              "    <tr>\n",
              "      <th>count</th>\n",
              "      <td>6.000000</td>\n",
              "      <td>6.000000</td>\n",
              "      <td>6.000000</td>\n",
              "      <td>6.000000</td>\n",
              "    </tr>\n",
              "    <tr>\n",
              "      <th>mean</th>\n",
              "      <td>0.621493</td>\n",
              "      <td>-0.204270</td>\n",
              "      <td>-0.498696</td>\n",
              "      <td>-0.181056</td>\n",
              "    </tr>\n",
              "    <tr>\n",
              "      <th>std</th>\n",
              "      <td>1.173220</td>\n",
              "      <td>1.668547</td>\n",
              "      <td>0.976203</td>\n",
              "      <td>0.833268</td>\n",
              "    </tr>\n",
              "    <tr>\n",
              "      <th>min</th>\n",
              "      <td>-0.388365</td>\n",
              "      <td>-2.091099</td>\n",
              "      <td>-1.944373</td>\n",
              "      <td>-1.042901</td>\n",
              "    </tr>\n",
              "    <tr>\n",
              "      <th>25%</th>\n",
              "      <td>-0.216492</td>\n",
              "      <td>-1.123547</td>\n",
              "      <td>-1.061202</td>\n",
              "      <td>-0.654600</td>\n",
              "    </tr>\n",
              "    <tr>\n",
              "      <th>50%</th>\n",
              "      <td>0.201654</td>\n",
              "      <td>-0.375785</td>\n",
              "      <td>-0.610669</td>\n",
              "      <td>-0.612496</td>\n",
              "    </tr>\n",
              "    <tr>\n",
              "      <th>75%</th>\n",
              "      <td>0.837287</td>\n",
              "      <td>-0.249437</td>\n",
              "      <td>0.570668</td>\n",
              "      <td>0.441123</td>\n",
              "    </tr>\n",
              "    <tr>\n",
              "      <th>max</th>\n",
              "      <td>2.837447</td>\n",
              "      <td>2.874761</td>\n",
              "      <td>0.596922</td>\n",
              "      <td>1.190109</td>\n",
              "    </tr>\n",
              "  </tbody>\n",
              "</table>\n",
              "</div>"
            ]
          },
          "metadata": {},
          "execution_count": 47
        }
      ]
    },
    {
      "cell_type": "code",
      "source": [
        "psdf.T"
      ],
      "metadata": {
        "colab": {
          "base_uri": "https://localhost:8080/",
          "height": 174
        },
        "id": "01Gg8TFMcmjw",
        "outputId": "ee1dd8f9-3093-4348-8999-6e9077e75ed9"
      },
      "execution_count": null,
      "outputs": [
        {
          "output_type": "execute_result",
          "data": {
            "text/plain": [
              "          0         1         2         3         4         5\n",
              "A -0.388365  0.837287 -0.216492  0.457425  0.201654  2.837447\n",
              "B -1.123547 -2.091099 -0.375785 -0.260510  2.874761 -0.249437\n",
              "C -0.610669 -0.543520  0.570668 -1.061202  0.596922 -1.944373\n",
              "D -0.407573 -0.612496 -1.042901 -0.654600  1.190109  0.441123"
            ],
            "text/html": [
              "<div>\n",
              "<style scoped>\n",
              "    .dataframe tbody tr th:only-of-type {\n",
              "        vertical-align: middle;\n",
              "    }\n",
              "\n",
              "    .dataframe tbody tr th {\n",
              "        vertical-align: top;\n",
              "    }\n",
              "\n",
              "    .dataframe thead th {\n",
              "        text-align: right;\n",
              "    }\n",
              "</style>\n",
              "<table border=\"1\" class=\"dataframe\">\n",
              "  <thead>\n",
              "    <tr style=\"text-align: right;\">\n",
              "      <th></th>\n",
              "      <th>0</th>\n",
              "      <th>1</th>\n",
              "      <th>2</th>\n",
              "      <th>3</th>\n",
              "      <th>4</th>\n",
              "      <th>5</th>\n",
              "    </tr>\n",
              "  </thead>\n",
              "  <tbody>\n",
              "    <tr>\n",
              "      <th>A</th>\n",
              "      <td>-0.388365</td>\n",
              "      <td>0.837287</td>\n",
              "      <td>-0.216492</td>\n",
              "      <td>0.457425</td>\n",
              "      <td>0.201654</td>\n",
              "      <td>2.837447</td>\n",
              "    </tr>\n",
              "    <tr>\n",
              "      <th>B</th>\n",
              "      <td>-1.123547</td>\n",
              "      <td>-2.091099</td>\n",
              "      <td>-0.375785</td>\n",
              "      <td>-0.260510</td>\n",
              "      <td>2.874761</td>\n",
              "      <td>-0.249437</td>\n",
              "    </tr>\n",
              "    <tr>\n",
              "      <th>C</th>\n",
              "      <td>-0.610669</td>\n",
              "      <td>-0.543520</td>\n",
              "      <td>0.570668</td>\n",
              "      <td>-1.061202</td>\n",
              "      <td>0.596922</td>\n",
              "      <td>-1.944373</td>\n",
              "    </tr>\n",
              "    <tr>\n",
              "      <th>D</th>\n",
              "      <td>-0.407573</td>\n",
              "      <td>-0.612496</td>\n",
              "      <td>-1.042901</td>\n",
              "      <td>-0.654600</td>\n",
              "      <td>1.190109</td>\n",
              "      <td>0.441123</td>\n",
              "    </tr>\n",
              "  </tbody>\n",
              "</table>\n",
              "</div>"
            ]
          },
          "metadata": {},
          "execution_count": 48
        }
      ]
    },
    {
      "cell_type": "code",
      "source": [
        "psdf.sort_index(ascending=False)"
      ],
      "metadata": {
        "colab": {
          "base_uri": "https://localhost:8080/",
          "height": 237
        },
        "id": "p-Z_wXXVcmmf",
        "outputId": "313d38c5-031c-4b05-df8f-757b22b5a271"
      },
      "execution_count": null,
      "outputs": [
        {
          "output_type": "execute_result",
          "data": {
            "text/plain": [
              "          A         B         C         D\n",
              "5  2.837447 -0.249437 -1.944373  0.441123\n",
              "4  0.201654  2.874761  0.596922  1.190109\n",
              "3  0.457425 -0.260510 -1.061202 -0.654600\n",
              "2 -0.216492 -0.375785  0.570668 -1.042901\n",
              "1  0.837287 -2.091099 -0.543520 -0.612496\n",
              "0 -0.388365 -1.123547 -0.610669 -0.407573"
            ],
            "text/html": [
              "<div>\n",
              "<style scoped>\n",
              "    .dataframe tbody tr th:only-of-type {\n",
              "        vertical-align: middle;\n",
              "    }\n",
              "\n",
              "    .dataframe tbody tr th {\n",
              "        vertical-align: top;\n",
              "    }\n",
              "\n",
              "    .dataframe thead th {\n",
              "        text-align: right;\n",
              "    }\n",
              "</style>\n",
              "<table border=\"1\" class=\"dataframe\">\n",
              "  <thead>\n",
              "    <tr style=\"text-align: right;\">\n",
              "      <th></th>\n",
              "      <th>A</th>\n",
              "      <th>B</th>\n",
              "      <th>C</th>\n",
              "      <th>D</th>\n",
              "    </tr>\n",
              "  </thead>\n",
              "  <tbody>\n",
              "    <tr>\n",
              "      <th>5</th>\n",
              "      <td>2.837447</td>\n",
              "      <td>-0.249437</td>\n",
              "      <td>-1.944373</td>\n",
              "      <td>0.441123</td>\n",
              "    </tr>\n",
              "    <tr>\n",
              "      <th>4</th>\n",
              "      <td>0.201654</td>\n",
              "      <td>2.874761</td>\n",
              "      <td>0.596922</td>\n",
              "      <td>1.190109</td>\n",
              "    </tr>\n",
              "    <tr>\n",
              "      <th>3</th>\n",
              "      <td>0.457425</td>\n",
              "      <td>-0.260510</td>\n",
              "      <td>-1.061202</td>\n",
              "      <td>-0.654600</td>\n",
              "    </tr>\n",
              "    <tr>\n",
              "      <th>2</th>\n",
              "      <td>-0.216492</td>\n",
              "      <td>-0.375785</td>\n",
              "      <td>0.570668</td>\n",
              "      <td>-1.042901</td>\n",
              "    </tr>\n",
              "    <tr>\n",
              "      <th>1</th>\n",
              "      <td>0.837287</td>\n",
              "      <td>-2.091099</td>\n",
              "      <td>-0.543520</td>\n",
              "      <td>-0.612496</td>\n",
              "    </tr>\n",
              "    <tr>\n",
              "      <th>0</th>\n",
              "      <td>-0.388365</td>\n",
              "      <td>-1.123547</td>\n",
              "      <td>-0.610669</td>\n",
              "      <td>-0.407573</td>\n",
              "    </tr>\n",
              "  </tbody>\n",
              "</table>\n",
              "</div>"
            ]
          },
          "metadata": {},
          "execution_count": 49
        }
      ]
    },
    {
      "cell_type": "code",
      "source": [
        "psdf.sort_values(by='B')"
      ],
      "metadata": {
        "colab": {
          "base_uri": "https://localhost:8080/",
          "height": 237
        },
        "id": "8kaHgI_FcmpE",
        "outputId": "5602be0a-914c-421e-abfa-509de8f3a385"
      },
      "execution_count": null,
      "outputs": [
        {
          "output_type": "execute_result",
          "data": {
            "text/plain": [
              "          A         B         C         D\n",
              "1  0.837287 -2.091099 -0.543520 -0.612496\n",
              "0 -0.388365 -1.123547 -0.610669 -0.407573\n",
              "2 -0.216492 -0.375785  0.570668 -1.042901\n",
              "3  0.457425 -0.260510 -1.061202 -0.654600\n",
              "5  2.837447 -0.249437 -1.944373  0.441123\n",
              "4  0.201654  2.874761  0.596922  1.190109"
            ],
            "text/html": [
              "<div>\n",
              "<style scoped>\n",
              "    .dataframe tbody tr th:only-of-type {\n",
              "        vertical-align: middle;\n",
              "    }\n",
              "\n",
              "    .dataframe tbody tr th {\n",
              "        vertical-align: top;\n",
              "    }\n",
              "\n",
              "    .dataframe thead th {\n",
              "        text-align: right;\n",
              "    }\n",
              "</style>\n",
              "<table border=\"1\" class=\"dataframe\">\n",
              "  <thead>\n",
              "    <tr style=\"text-align: right;\">\n",
              "      <th></th>\n",
              "      <th>A</th>\n",
              "      <th>B</th>\n",
              "      <th>C</th>\n",
              "      <th>D</th>\n",
              "    </tr>\n",
              "  </thead>\n",
              "  <tbody>\n",
              "    <tr>\n",
              "      <th>1</th>\n",
              "      <td>0.837287</td>\n",
              "      <td>-2.091099</td>\n",
              "      <td>-0.543520</td>\n",
              "      <td>-0.612496</td>\n",
              "    </tr>\n",
              "    <tr>\n",
              "      <th>0</th>\n",
              "      <td>-0.388365</td>\n",
              "      <td>-1.123547</td>\n",
              "      <td>-0.610669</td>\n",
              "      <td>-0.407573</td>\n",
              "    </tr>\n",
              "    <tr>\n",
              "      <th>2</th>\n",
              "      <td>-0.216492</td>\n",
              "      <td>-0.375785</td>\n",
              "      <td>0.570668</td>\n",
              "      <td>-1.042901</td>\n",
              "    </tr>\n",
              "    <tr>\n",
              "      <th>3</th>\n",
              "      <td>0.457425</td>\n",
              "      <td>-0.260510</td>\n",
              "      <td>-1.061202</td>\n",
              "      <td>-0.654600</td>\n",
              "    </tr>\n",
              "    <tr>\n",
              "      <th>5</th>\n",
              "      <td>2.837447</td>\n",
              "      <td>-0.249437</td>\n",
              "      <td>-1.944373</td>\n",
              "      <td>0.441123</td>\n",
              "    </tr>\n",
              "    <tr>\n",
              "      <th>4</th>\n",
              "      <td>0.201654</td>\n",
              "      <td>2.874761</td>\n",
              "      <td>0.596922</td>\n",
              "      <td>1.190109</td>\n",
              "    </tr>\n",
              "  </tbody>\n",
              "</table>\n",
              "</div>"
            ]
          },
          "metadata": {},
          "execution_count": 50
        }
      ]
    },
    {
      "cell_type": "code",
      "source": [],
      "metadata": {
        "id": "-OZPnwpacmr1"
      },
      "execution_count": null,
      "outputs": []
    },
    {
      "cell_type": "code",
      "source": [],
      "metadata": {
        "id": "BavxYo34cmug"
      },
      "execution_count": null,
      "outputs": []
    },
    {
      "cell_type": "code",
      "source": [],
      "metadata": {
        "id": "WcDpAVjUcaHD"
      },
      "execution_count": null,
      "outputs": []
    },
    {
      "cell_type": "code",
      "source": [],
      "metadata": {
        "id": "At3Mg5q0caJ0"
      },
      "execution_count": null,
      "outputs": []
    },
    {
      "cell_type": "code",
      "source": [],
      "metadata": {
        "id": "s-932JL8caMY"
      },
      "execution_count": null,
      "outputs": []
    }
  ],
  "metadata": {
    "accelerator": "GPU",
    "colab": {
      "gpuType": "T4",
      "provenance": [],
      "include_colab_link": true
    },
    "kernelspec": {
      "display_name": "Python 3 (ipykernel)",
      "language": "python",
      "name": "python3"
    },
    "language_info": {
      "codemirror_mode": {
        "name": "ipython",
        "version": 3
      },
      "file_extension": ".py",
      "mimetype": "text/x-python",
      "name": "python",
      "nbconvert_exporter": "python",
      "pygments_lexer": "ipython3",
      "version": "3.11.5"
    }
  },
  "nbformat": 4,
  "nbformat_minor": 0
}